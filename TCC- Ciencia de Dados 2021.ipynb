{
 "cells": [
  {
   "cell_type": "markdown",
   "metadata": {},
   "source": [
    "# PUC Minas Pós Graduação em Ciência de Dados e Big Data (2019-2020) Trabalho de Conclusão de Curso"
   ]
  },
  {
   "cell_type": "markdown",
   "metadata": {},
   "source": [
    "Aluno: Ivanilton Ferreira Bastos\n",
    "\n",
    "Notebook relativo ao Trabalho de Conclusão de Curso em Ciência de Dados e Big Data.\n",
    "\n",
    "Titulo:Análise de series temporais e predição de vendas de veículos novos no Brasil utilizando técnica de Web Scrapping e ARIMA, período utilizado de 2011 a 2020.\n",
    "Foram utilizados dados aberto do Site www.autoo.com.br"
   ]
  },
  {
   "cell_type": "code",
   "execution_count": 77,
   "metadata": {},
   "outputs": [],
   "source": [
    "#Importando Bibliotecas utilizadas \n",
    "import pandas as pd\n",
    "import warnings\n",
    "import requests\n",
    "from bs4 import BeautifulSoup\n",
    "import warnings\n",
    "import numpy as np\n",
    "import seaborn as sns\n",
    "import statsmodels.api as sm\n",
    "import matplotlib.pyplot as plt\n",
    "from matplotlib.pylab import rcParams\n",
    "from statsmodels.tsa.stattools import adfuller\n",
    "from statsmodels.tsa.seasonal import seasonal_decompose\n",
    "from statsmodels.tsa.arima_model import ARIMA\n",
    "\n",
    "\n",
    "\n"
   ]
  },
  {
   "cell_type": "code",
   "execution_count": 78,
   "metadata": {},
   "outputs": [],
   "source": [
    "#Função para o Scraping de dados da Web\n",
    "def buscar_Tabela():\n",
    "    \n",
    "    url = 'https://www.autoo.com.br/emplacamentos/'\n",
    "    print(url)\n",
    "    req = requests.get(url)\n",
    "    if req.status_code == 200:\n",
    "        print('Requisição bem sucedida!')\n",
    "        content = req.content\n",
    "        \n",
    "    soup = BeautifulSoup(content, 'html.parser')\n",
    "    table = soup.find(name='table')\n",
    "    \n",
    "    table_str = str(table)\n",
    "    tabela = 'Emplacamentos'\n",
    "    dfDados = pd.read_html(table_str)[0]\n",
    "    \n",
    "    dfDados = dfDados.to_csv(tabela + '.csv', encoding = 'utf-8')\n",
    "   \n",
    "    print('Foi criado o arquivo de Dados ' + tabela+ '.csv')\n",
    "    \n",
    "def teste_adf(serie):\n",
    "    '''\n",
    "    Função para exibir o teste Augmented Dickey-Fuller.\n",
    "    '''\n",
    "    result = adfuller(serie)\n",
    "    print('ADF Statistic: %f' % result[0])\n",
    "    print('p-value: %f' % result[1])\n",
    "    print('Critical Values:')\n",
    "    for key, value in result[4].items():\n",
    "        print('\\t%s: %.3f' % (key, value))\n",
    "       "
   ]
  },
  {
   "cell_type": "code",
   "execution_count": 79,
   "metadata": {},
   "outputs": [
    {
     "name": "stdout",
     "output_type": "stream",
     "text": [
      "https://www.autoo.com.br/emplacamentos/\n",
      "Requisição bem sucedida!\n",
      "Foi criado o arquivo de Dados Emplacamentos.csv\n"
     ]
    }
   ],
   "source": [
    "#https://www.autoo.com.br/emplacamentos/\n",
    "#Emplacamentos\n",
    "buscar_Tabela()"
   ]
  },
  {
   "cell_type": "code",
   "execution_count": 113,
   "metadata": {},
   "outputs": [
    {
     "data": {
      "text/html": [
       "<div>\n",
       "<style scoped>\n",
       "    .dataframe tbody tr th:only-of-type {\n",
       "        vertical-align: middle;\n",
       "    }\n",
       "\n",
       "    .dataframe tbody tr th {\n",
       "        vertical-align: top;\n",
       "    }\n",
       "\n",
       "    .dataframe thead th {\n",
       "        text-align: right;\n",
       "    }\n",
       "</style>\n",
       "<table border=\"1\" class=\"dataframe\">\n",
       "  <thead>\n",
       "    <tr style=\"text-align: right;\">\n",
       "      <th></th>\n",
       "      <th>Unnamed: 0</th>\n",
       "      <th>Ano</th>\n",
       "      <th>Jan</th>\n",
       "      <th>Fev</th>\n",
       "      <th>Mar</th>\n",
       "      <th>Abr</th>\n",
       "      <th>Mai</th>\n",
       "      <th>Jun</th>\n",
       "      <th>Jul</th>\n",
       "      <th>Ago</th>\n",
       "      <th>Set</th>\n",
       "      <th>Out</th>\n",
       "      <th>Nov</th>\n",
       "      <th>Dez</th>\n",
       "      <th>Total</th>\n",
       "    </tr>\n",
       "  </thead>\n",
       "  <tbody>\n",
       "    <tr>\n",
       "      <th>0</th>\n",
       "      <td>0</td>\n",
       "      <td>2021</td>\n",
       "      <td>162.761</td>\n",
       "      <td>158.210</td>\n",
       "      <td>176.944</td>\n",
       "      <td>NaN</td>\n",
       "      <td>NaN</td>\n",
       "      <td>NaN</td>\n",
       "      <td>NaN</td>\n",
       "      <td>NaN</td>\n",
       "      <td>NaN</td>\n",
       "      <td>NaN</td>\n",
       "      <td>NaN</td>\n",
       "      <td>NaN</td>\n",
       "      <td>497.915</td>\n",
       "    </tr>\n",
       "    <tr>\n",
       "      <th>1</th>\n",
       "      <td>1</td>\n",
       "      <td>2020</td>\n",
       "      <td>184.229</td>\n",
       "      <td>192.554</td>\n",
       "      <td>155.676</td>\n",
       "      <td>51.383</td>\n",
       "      <td>56.656</td>\n",
       "      <td>122.785</td>\n",
       "      <td>162.947</td>\n",
       "      <td>173.058</td>\n",
       "      <td>198.495</td>\n",
       "      <td>205.038</td>\n",
       "      <td>214.256</td>\n",
       "      <td>232.815</td>\n",
       "      <td>1.949.892</td>\n",
       "    </tr>\n",
       "    <tr>\n",
       "      <th>2</th>\n",
       "      <td>2</td>\n",
       "      <td>2019</td>\n",
       "      <td>190.613</td>\n",
       "      <td>189.812</td>\n",
       "      <td>199.540</td>\n",
       "      <td>221.185</td>\n",
       "      <td>234.066</td>\n",
       "      <td>213.336</td>\n",
       "      <td>232.013</td>\n",
       "      <td>230.499</td>\n",
       "      <td>223.048</td>\n",
       "      <td>241.087</td>\n",
       "      <td>230.701</td>\n",
       "      <td>251.795</td>\n",
       "      <td>2.657.695</td>\n",
       "    </tr>\n",
       "    <tr>\n",
       "      <th>3</th>\n",
       "      <td>3</td>\n",
       "      <td>2018</td>\n",
       "      <td>175.448</td>\n",
       "      <td>151.635</td>\n",
       "      <td>199.867</td>\n",
       "      <td>209.961</td>\n",
       "      <td>194.913</td>\n",
       "      <td>194.950</td>\n",
       "      <td>208.402</td>\n",
       "      <td>238.511</td>\n",
       "      <td>204.503</td>\n",
       "      <td>244.394</td>\n",
       "      <td>220.927</td>\n",
       "      <td>224.557</td>\n",
       "      <td>2.468.068</td>\n",
       "    </tr>\n",
       "    <tr>\n",
       "      <th>4</th>\n",
       "      <td>4</td>\n",
       "      <td>2017</td>\n",
       "      <td>143.439</td>\n",
       "      <td>132.280</td>\n",
       "      <td>183.701</td>\n",
       "      <td>152.263</td>\n",
       "      <td>189.960</td>\n",
       "      <td>189.089</td>\n",
       "      <td>178.646</td>\n",
       "      <td>209.736</td>\n",
       "      <td>193.447</td>\n",
       "      <td>196.517</td>\n",
       "      <td>196.909</td>\n",
       "      <td>204.276</td>\n",
       "      <td>2.170.263</td>\n",
       "    </tr>\n",
       "  </tbody>\n",
       "</table>\n",
       "</div>"
      ],
      "text/plain": [
       "   Unnamed: 0   Ano      Jan      Fev      Mar      Abr      Mai      Jun  \\\n",
       "0           0  2021  162.761  158.210  176.944      NaN      NaN      NaN   \n",
       "1           1  2020  184.229  192.554  155.676   51.383   56.656  122.785   \n",
       "2           2  2019  190.613  189.812  199.540  221.185  234.066  213.336   \n",
       "3           3  2018  175.448  151.635  199.867  209.961  194.913  194.950   \n",
       "4           4  2017  143.439  132.280  183.701  152.263  189.960  189.089   \n",
       "\n",
       "       Jul      Ago      Set      Out      Nov      Dez      Total  \n",
       "0      NaN      NaN      NaN      NaN      NaN      NaN    497.915  \n",
       "1  162.947  173.058  198.495  205.038  214.256  232.815  1.949.892  \n",
       "2  232.013  230.499  223.048  241.087  230.701  251.795  2.657.695  \n",
       "3  208.402  238.511  204.503  244.394  220.927  224.557  2.468.068  \n",
       "4  178.646  209.736  193.447  196.517  196.909  204.276  2.170.263  "
      ]
     },
     "execution_count": 113,
     "metadata": {},
     "output_type": "execute_result"
    }
   ],
   "source": [
    "#Alocando os dados do arquivo csv criado a partir da tabela da web\n",
    "#Tratamento da coluna Ano para o formato Data\n",
    "dfEmplacamentos = pd.read_csv('Emplacamentos.csv', encoding='utf-8')\n",
    "#dfEmplacamentos.set_index('Ano',inplace=True)\n",
    "#dfEplacamentos[['Jan','Fev','Mar','Abr','Mai','Jun','Jul','Ago','Set','Out','Nov','Dez']] = dfEmplacamentos[['Jan','Fev','Mar','Abr','Mai','Jun','Jul','Ago','Set','Out','Nov','Dez']].astype(float)\n",
    "\n",
    "#dfEmplacamentos['Ano']= dfEmplacamentos['Ano'].dt.year\n",
    "#dfEmplacamentos['Ano'] = pd.DatetimeIndex(dfEmplacamentos['Ano']).year \n",
    "dfEmplacamentos.head()"
   ]
  },
  {
   "cell_type": "markdown",
   "metadata": {},
   "source": [
    "# Tratamento dos dados"
   ]
  },
  {
   "cell_type": "code",
   "execution_count": 114,
   "metadata": {},
   "outputs": [
    {
     "data": {
      "text/plain": [
       "Unnamed: 0      int64\n",
       "Ano             int64\n",
       "Jan           float64\n",
       "Fev           float64\n",
       "Mar           float64\n",
       "Abr           float64\n",
       "Mai           float64\n",
       "Jun           float64\n",
       "Jul           float64\n",
       "Ago           float64\n",
       "Set           float64\n",
       "Out           float64\n",
       "Nov           float64\n",
       "Dez           float64\n",
       "Total          object\n",
       "dtype: object"
      ]
     },
     "execution_count": 114,
     "metadata": {},
     "output_type": "execute_result"
    }
   ],
   "source": [
    "#Verificando o tipo dos Dados\n",
    "dfEmplacamentos.dtypes\n"
   ]
  },
  {
   "cell_type": "code",
   "execution_count": 115,
   "metadata": {},
   "outputs": [],
   "source": [
    "#excluindo a coluna Total e recriando a partir da soma dos valor \n",
    "dfEmplacamentos.drop('Total', axis=1, inplace=True)\n",
    "dfEmplacamentos['Total de Vendas'] = dfEmplacamentos.sum(axis=1)\n",
    "dfEmplacamentos = dfEmplacamentos.head(15)"
   ]
  },
  {
   "cell_type": "code",
   "execution_count": 116,
   "metadata": {},
   "outputs": [
    {
     "data": {
      "text/plain": [
       "Unnamed: 0           int64\n",
       "Ano                  int64\n",
       "Jan                float64\n",
       "Fev                float64\n",
       "Mar                float64\n",
       "Abr                float64\n",
       "Mai                float64\n",
       "Jun                float64\n",
       "Jul                float64\n",
       "Ago                float64\n",
       "Set                float64\n",
       "Out                float64\n",
       "Nov                float64\n",
       "Dez                float64\n",
       "Total de Vendas    float64\n",
       "dtype: object"
      ]
     },
     "execution_count": 116,
     "metadata": {},
     "output_type": "execute_result"
    }
   ],
   "source": [
    "dfEmplacamentos.dtypes"
   ]
  },
  {
   "cell_type": "code",
   "execution_count": 117,
   "metadata": {
    "scrolled": true
   },
   "outputs": [
    {
     "data": {
      "text/plain": [
       "Unnamed: 0         0\n",
       "Ano                0\n",
       "Jan                0\n",
       "Fev                0\n",
       "Mar                0\n",
       "Abr                1\n",
       "Mai                1\n",
       "Jun                1\n",
       "Jul                1\n",
       "Ago                1\n",
       "Set                1\n",
       "Out                1\n",
       "Nov                1\n",
       "Dez                1\n",
       "Total de Vendas    0\n",
       "dtype: int64"
      ]
     },
     "execution_count": 117,
     "metadata": {},
     "output_type": "execute_result"
    }
   ],
   "source": [
    "#Verificando os campos com valores em branco\n",
    "dfEmplacamentos.isnull().sum()"
   ]
  },
  {
   "cell_type": "code",
   "execution_count": 118,
   "metadata": {},
   "outputs": [],
   "source": [
    "#Trocando os campos em branco por campos com o valor zero\n",
    "dfEmplacamentos.fillna(0, inplace=True)"
   ]
  },
  {
   "cell_type": "code",
   "execution_count": 119,
   "metadata": {},
   "outputs": [],
   "source": [
    "#Selecionando apenas os últimos dez anos \n",
    "#dfEmplacamentos = dfEmplacamentos.head(10)"
   ]
  },
  {
   "cell_type": "code",
   "execution_count": 120,
   "metadata": {},
   "outputs": [],
   "source": [
    "#retirando a coluna criada pelo pandas para indexação \n",
    "dfEmplacamentos.drop('Unnamed: 0', axis=1, inplace=True)\n",
    "dfEmplacamentos.drop(0,inplace=True)"
   ]
  },
  {
   "cell_type": "code",
   "execution_count": 121,
   "metadata": {},
   "outputs": [],
   "source": [
    "#Ordenando os dados pela coluna Ano\n",
    "dfEmplacamentos.sort_values('Ano', ascending=True, inplace=True)"
   ]
  },
  {
   "cell_type": "markdown",
   "metadata": {},
   "source": [
    "## Análise exploratória dos dados\n",
    "\n",
    "Para orientar a análise dos dados realizei algumas pergundas\n",
    "\n",
    "1. Qual foi o melhor ano para as vendas de veículos no Brasil\n",
    "\n",
    "2. Qual foi o pior ano para as vendas de veículos no Brasil\n",
    "3. Como foi o comportamento das vendas de veículos por Trimestre\n",
    "4. parametros estatisticos para as vendas anuais e trimestrais\n"
   ]
  },
  {
   "cell_type": "code",
   "execution_count": 122,
   "metadata": {},
   "outputs": [],
   "source": [
    "#Dados Estatisticos sobre as variáveis\n",
    "dfEstatisticas = dfEmplacamentos.drop(columns=['Ano','Total de Vendas'],axis=1).describe()\n",
    "dfEstatisticas\n",
    "Media = dfEstatisticas.loc['mean']\n",
    "dfMedia = pd.DataFrame(data=Media,columns=['Mes','Media de Vendas'])\n",
    "dfMedia =  dfEstatisticas.loc['mean']\n",
    "dfMedia = pd.DataFrame(np.array(Media).reshape(12, 1), columns = list(\"A\"))\n",
    "#dataset = pd.DataFrame({'Column1': Media[:, 0], 'Column2': data[:, 1]})\n",
    "#ataset\n"
   ]
  },
  {
   "cell_type": "code",
   "execution_count": 123,
   "metadata": {},
   "outputs": [
    {
     "data": {
      "text/html": [
       "<div>\n",
       "<style scoped>\n",
       "    .dataframe tbody tr th:only-of-type {\n",
       "        vertical-align: middle;\n",
       "    }\n",
       "\n",
       "    .dataframe tbody tr th {\n",
       "        vertical-align: top;\n",
       "    }\n",
       "\n",
       "    .dataframe thead th {\n",
       "        text-align: right;\n",
       "    }\n",
       "</style>\n",
       "<table border=\"1\" class=\"dataframe\">\n",
       "  <thead>\n",
       "    <tr style=\"text-align: right;\">\n",
       "      <th></th>\n",
       "      <th>A</th>\n",
       "    </tr>\n",
       "  </thead>\n",
       "  <tbody>\n",
       "    <tr>\n",
       "      <th>0</th>\n",
       "      <td>212.277923</td>\n",
       "    </tr>\n",
       "    <tr>\n",
       "      <th>1</th>\n",
       "      <td>195.452923</td>\n",
       "    </tr>\n",
       "    <tr>\n",
       "      <th>2</th>\n",
       "      <td>232.725000</td>\n",
       "    </tr>\n",
       "    <tr>\n",
       "      <th>3</th>\n",
       "      <td>219.265538</td>\n",
       "    </tr>\n",
       "    <tr>\n",
       "      <th>4</th>\n",
       "      <td>222.856462</td>\n",
       "    </tr>\n",
       "    <tr>\n",
       "      <th>5</th>\n",
       "      <td>234.662308</td>\n",
       "    </tr>\n",
       "    <tr>\n",
       "      <th>6</th>\n",
       "      <td>249.966538</td>\n",
       "    </tr>\n",
       "    <tr>\n",
       "      <th>7</th>\n",
       "      <td>252.772923</td>\n",
       "    </tr>\n",
       "    <tr>\n",
       "      <th>8</th>\n",
       "      <td>242.683923</td>\n",
       "    </tr>\n",
       "    <tr>\n",
       "      <th>9</th>\n",
       "      <td>247.213538</td>\n",
       "    </tr>\n",
       "    <tr>\n",
       "      <th>10</th>\n",
       "      <td>239.188538</td>\n",
       "    </tr>\n",
       "    <tr>\n",
       "      <th>11</th>\n",
       "      <td>269.232538</td>\n",
       "    </tr>\n",
       "  </tbody>\n",
       "</table>\n",
       "</div>"
      ],
      "text/plain": [
       "             A\n",
       "0   212.277923\n",
       "1   195.452923\n",
       "2   232.725000\n",
       "3   219.265538\n",
       "4   222.856462\n",
       "5   234.662308\n",
       "6   249.966538\n",
       "7   252.772923\n",
       "8   242.683923\n",
       "9   247.213538\n",
       "10  239.188538\n",
       "11  269.232538"
      ]
     },
     "execution_count": 123,
     "metadata": {},
     "output_type": "execute_result"
    }
   ],
   "source": [
    "dfMedia = pd.DataFrame(np.array(Media).reshape(12, 1), columns = list(\"A\"))\n",
    "dfMedia\n"
   ]
  },
  {
   "cell_type": "code",
   "execution_count": 124,
   "metadata": {},
   "outputs": [
    {
     "data": {
      "image/png": "[encoded data removed]",
      "text/plain": [
       "<Figure size 1080x576 with 1 Axes>"
      ]
     },
     "metadata": {},
     "output_type": "display_data"
    }
   ],
   "source": [
    "#Melhor Ano para as Vendas de Veículos no Brasil\n",
    "plt.style.use(\"ggplot\")\n",
    "dfEmplacamentos[['Ano','Total de Vendas']].plot(kind='bar', x='Ano', figsize=(15,8),title='Vendas Anuais', grid='True',alpha = .6, color = \"royalblue\")\n",
    "#dfMedia[['Ano','Total de Vendas']].plot(kind='line', figsize=(15,8),title='Vendas Anuais', grid='True')\n",
    "plt.style.use(\"ggplot\")\n",
    "plt.show()\n"
   ]
  },
  {
   "cell_type": "markdown",
   "metadata": {},
   "source": [
    "### Podemos verificar através do gráfico de barras que o pior ano para as vendas de veículos foi o de 2016 e que os melhores anos foram os de 2012 e 2013.\n"
   ]
  },
  {
   "cell_type": "code",
   "execution_count": 125,
   "metadata": {},
   "outputs": [],
   "source": [
    "#plt.style.use(\"ggplot\")\n",
    "#plt.figure(figsize = (15, 8))\n",
    "#dfEmplacamentos[['Ano','Total de Vendas']].hist(bins = 40, ec = \"k\", alpha = .6, color = \"royalblue\")\n",
    "#plt.title('Ano')\n",
    "#plt.xlabel(\"Período\")\n",
    "#plt.ylabel(\"Vendas em Milhares de Veículos\")"
   ]
  },
  {
   "cell_type": "code",
   "execution_count": 126,
   "metadata": {},
   "outputs": [
    {
     "data": {
      "text/html": [
       "<div>\n",
       "<style scoped>\n",
       "    .dataframe tbody tr th:only-of-type {\n",
       "        vertical-align: middle;\n",
       "    }\n",
       "\n",
       "    .dataframe tbody tr th {\n",
       "        vertical-align: top;\n",
       "    }\n",
       "\n",
       "    .dataframe thead th {\n",
       "        text-align: right;\n",
       "    }\n",
       "</style>\n",
       "<table border=\"1\" class=\"dataframe\">\n",
       "  <thead>\n",
       "    <tr style=\"text-align: right;\">\n",
       "      <th></th>\n",
       "      <th>Jan</th>\n",
       "      <th>Fev</th>\n",
       "      <th>Mar</th>\n",
       "      <th>Abr</th>\n",
       "      <th>Mai</th>\n",
       "      <th>Jun</th>\n",
       "      <th>Jul</th>\n",
       "      <th>Ago</th>\n",
       "      <th>Set</th>\n",
       "      <th>Out</th>\n",
       "      <th>Nov</th>\n",
       "      <th>Dez</th>\n",
       "    </tr>\n",
       "  </thead>\n",
       "  <tbody>\n",
       "    <tr>\n",
       "      <th>count</th>\n",
       "      <td>13.000000</td>\n",
       "      <td>13.000000</td>\n",
       "      <td>13.000000</td>\n",
       "      <td>13.000000</td>\n",
       "      <td>13.000000</td>\n",
       "      <td>13.000000</td>\n",
       "      <td>13.000000</td>\n",
       "      <td>13.000000</td>\n",
       "      <td>13.000000</td>\n",
       "      <td>13.000000</td>\n",
       "      <td>13.000000</td>\n",
       "      <td>13.000000</td>\n",
       "    </tr>\n",
       "    <tr>\n",
       "      <th>mean</th>\n",
       "      <td>212.277923</td>\n",
       "      <td>195.452923</td>\n",
       "      <td>232.725000</td>\n",
       "      <td>219.265538</td>\n",
       "      <td>222.856462</td>\n",
       "      <td>234.662308</td>\n",
       "      <td>249.966538</td>\n",
       "      <td>252.772923</td>\n",
       "      <td>242.683923</td>\n",
       "      <td>247.213538</td>\n",
       "      <td>239.188538</td>\n",
       "      <td>269.232538</td>\n",
       "    </tr>\n",
       "    <tr>\n",
       "      <th>std</th>\n",
       "      <td>49.518568</td>\n",
       "      <td>38.882205</td>\n",
       "      <td>52.365884</td>\n",
       "      <td>68.177647</td>\n",
       "      <td>65.579275</td>\n",
       "      <td>60.619504</td>\n",
       "      <td>58.878749</td>\n",
       "      <td>63.995609</td>\n",
       "      <td>49.759413</td>\n",
       "      <td>52.262168</td>\n",
       "      <td>51.367774</td>\n",
       "      <td>65.976227</td>\n",
       "    </tr>\n",
       "    <tr>\n",
       "      <th>min</th>\n",
       "      <td>143.439000</td>\n",
       "      <td>132.280000</td>\n",
       "      <td>155.676000</td>\n",
       "      <td>51.383000</td>\n",
       "      <td>56.656000</td>\n",
       "      <td>122.785000</td>\n",
       "      <td>162.947000</td>\n",
       "      <td>173.058000</td>\n",
       "      <td>154.913000</td>\n",
       "      <td>154.827000</td>\n",
       "      <td>166.118000</td>\n",
       "      <td>183.648000</td>\n",
       "    </tr>\n",
       "    <tr>\n",
       "      <th>25%</th>\n",
       "      <td>184.229000</td>\n",
       "      <td>178.395000</td>\n",
       "      <td>199.540000</td>\n",
       "      <td>209.961000</td>\n",
       "      <td>194.913000</td>\n",
       "      <td>194.950000</td>\n",
       "      <td>208.402000</td>\n",
       "      <td>209.736000</td>\n",
       "      <td>198.495000</td>\n",
       "      <td>205.038000</td>\n",
       "      <td>196.909000</td>\n",
       "      <td>208.184000</td>\n",
       "    </tr>\n",
       "    <tr>\n",
       "      <th>50%</th>\n",
       "      <td>201.186000</td>\n",
       "      <td>191.029000</td>\n",
       "      <td>226.088000</td>\n",
       "      <td>224.152000</td>\n",
       "      <td>234.066000</td>\n",
       "      <td>242.716000</td>\n",
       "      <td>272.752000</td>\n",
       "      <td>238.511000</td>\n",
       "      <td>253.935000</td>\n",
       "      <td>244.394000</td>\n",
       "      <td>230.701000</td>\n",
       "      <td>251.795000</td>\n",
       "    </tr>\n",
       "    <tr>\n",
       "      <th>75%</th>\n",
       "      <td>242.913000</td>\n",
       "      <td>222.087000</td>\n",
       "      <td>268.057000</td>\n",
       "      <td>261.726000</td>\n",
       "      <td>273.866000</td>\n",
       "      <td>286.547000</td>\n",
       "      <td>284.763000</td>\n",
       "      <td>296.352000</td>\n",
       "      <td>291.235000</td>\n",
       "      <td>287.407000</td>\n",
       "      <td>287.858000</td>\n",
       "      <td>335.090000</td>\n",
       "    </tr>\n",
       "    <tr>\n",
       "      <th>max</th>\n",
       "      <td>299.189000</td>\n",
       "      <td>258.508000</td>\n",
       "      <td>337.119000</td>\n",
       "      <td>316.241000</td>\n",
       "      <td>300.315000</td>\n",
       "      <td>340.202000</td>\n",
       "      <td>351.805000</td>\n",
       "      <td>404.664000</td>\n",
       "      <td>296.424000</td>\n",
       "      <td>326.027000</td>\n",
       "      <td>311.231000</td>\n",
       "      <td>359.354000</td>\n",
       "    </tr>\n",
       "  </tbody>\n",
       "</table>\n",
       "</div>"
      ],
      "text/plain": [
       "              Jan         Fev         Mar         Abr         Mai         Jun  \\\n",
       "count   13.000000   13.000000   13.000000   13.000000   13.000000   13.000000   \n",
       "mean   212.277923  195.452923  232.725000  219.265538  222.856462  234.662308   \n",
       "std     49.518568   38.882205   52.365884   68.177647   65.579275   60.619504   \n",
       "min    143.439000  132.280000  155.676000   51.383000   56.656000  122.785000   \n",
       "25%    184.229000  178.395000  199.540000  209.961000  194.913000  194.950000   \n",
       "50%    201.186000  191.029000  226.088000  224.152000  234.066000  242.716000   \n",
       "75%    242.913000  222.087000  268.057000  261.726000  273.866000  286.547000   \n",
       "max    299.189000  258.508000  337.119000  316.241000  300.315000  340.202000   \n",
       "\n",
       "              Jul         Ago         Set         Out         Nov         Dez  \n",
       "count   13.000000   13.000000   13.000000   13.000000   13.000000   13.000000  \n",
       "mean   249.966538  252.772923  242.683923  247.213538  239.188538  269.232538  \n",
       "std     58.878749   63.995609   49.759413   52.262168   51.367774   65.976227  \n",
       "min    162.947000  173.058000  154.913000  154.827000  166.118000  183.648000  \n",
       "25%    208.402000  209.736000  198.495000  205.038000  196.909000  208.184000  \n",
       "50%    272.752000  238.511000  253.935000  244.394000  230.701000  251.795000  \n",
       "75%    284.763000  296.352000  291.235000  287.407000  287.858000  335.090000  \n",
       "max    351.805000  404.664000  296.424000  326.027000  311.231000  359.354000  "
      ]
     },
     "execution_count": 126,
     "metadata": {},
     "output_type": "execute_result"
    }
   ],
   "source": [
    "#Dados Estatisticos sobre as variáveis\n",
    "dfEmplacamentos.drop(columns=['Ano','Total de Vendas',],axis=1).describe()"
   ]
  },
  {
   "cell_type": "code",
   "execution_count": 127,
   "metadata": {},
   "outputs": [
    {
     "data": {
      "text/plain": [
       "<AxesSubplot:>"
      ]
     },
     "execution_count": 127,
     "metadata": {},
     "output_type": "execute_result"
    },
    {
     "data": {
      "image/png": "[encoded data removed]",
      "text/plain": [
       "<Figure size 1080x360 with 1 Axes>"
      ]
     },
     "metadata": {},
     "output_type": "display_data"
    }
   ],
   "source": [
    "#Gráfico de Caixas para análises estatísticas das vendas pelos meses e os outliers(mínimos,máximos,médias, quartis e as discrepâncias) das vendas mensais de 2011 a 2020.\n",
    "plt.style.use(\"ggplot\")\n",
    "dfEmplacamentos.drop(columns=['Ano','Total de Vendas'], axis=1).boxplot(color='#4169e1',figsize='15,5')\n",
    "#dfEmplacamentos"
   ]
  },
  {
   "cell_type": "markdown",
   "metadata": {},
   "source": [
    "Através do gráfico de caixas, podemos verificar um outlier no mês de maio, esta discrepância é devido a falta de dados para o mês no ano corrente. \n",
    "No mês de abril, verificamos a mínima histórica para as vendas, provavelmente puxada pelo mês no ano de 2020.\n",
    "Já a máxima Histórica de vendas é verificada no mês de agosto, provavelmente influenciado pelos anos de 2012 e 2013.\n",
    "Podemos visualizar também, que as medianas de vendas se movem 200 e 250 mil vendas mensais.\n",
    "Podemos observar que o mês de dezembro possuí a maior dispersão de dados."
   ]
  },
  {
   "cell_type": "code",
   "execution_count": 128,
   "metadata": {},
   "outputs": [],
   "source": [
    "#Sabendo que o ano de 2012 foi o melhor ano para as vendas, e que o completo de 2016 foi o pior, qual o trimestre que teve maior influencia nesse resultado\n",
    "dfEmplacamentos['1ºTrimestre'] = dfEmplacamentos['Jan']+dfEmplacamentos['Fev']+dfEmplacamentos['Mar']\n",
    "dfEmplacamentos['2ºTrimestre'] = dfEmplacamentos['Abr']+dfEmplacamentos['Mai']+dfEmplacamentos['Jun']\n",
    "dfEmplacamentos['3ºTrimestre'] = dfEmplacamentos['Jul']+dfEmplacamentos['Ago']+dfEmplacamentos['Set']\n",
    "dfEmplacamentos['4ºTrimestre'] = dfEmplacamentos['Out']+dfEmplacamentos['Nov']+dfEmplacamentos['Dez']\n"
   ]
  },
  {
   "cell_type": "code",
   "execution_count": 129,
   "metadata": {
    "scrolled": true
   },
   "outputs": [
    {
     "data": {
      "text/html": [
       "<div>\n",
       "<style scoped>\n",
       "    .dataframe tbody tr th:only-of-type {\n",
       "        vertical-align: middle;\n",
       "    }\n",
       "\n",
       "    .dataframe tbody tr th {\n",
       "        vertical-align: top;\n",
       "    }\n",
       "\n",
       "    .dataframe thead th {\n",
       "        text-align: right;\n",
       "    }\n",
       "</style>\n",
       "<table border=\"1\" class=\"dataframe\">\n",
       "  <thead>\n",
       "    <tr style=\"text-align: right;\">\n",
       "      <th></th>\n",
       "      <th>Ano</th>\n",
       "      <th>Jan</th>\n",
       "      <th>Fev</th>\n",
       "      <th>Mar</th>\n",
       "      <th>Abr</th>\n",
       "      <th>Mai</th>\n",
       "      <th>Jun</th>\n",
       "      <th>Jul</th>\n",
       "      <th>Ago</th>\n",
       "      <th>Set</th>\n",
       "      <th>Out</th>\n",
       "      <th>Nov</th>\n",
       "      <th>Dez</th>\n",
       "      <th>Total de Vendas</th>\n",
       "      <th>1ºTrimestre</th>\n",
       "      <th>2ºTrimestre</th>\n",
       "      <th>3ºTrimestre</th>\n",
       "      <th>4ºTrimestre</th>\n",
       "    </tr>\n",
       "  </thead>\n",
       "  <tbody>\n",
       "    <tr>\n",
       "      <th>13</th>\n",
       "      <td>2008</td>\n",
       "      <td>205.078</td>\n",
       "      <td>190.843</td>\n",
       "      <td>220.735</td>\n",
       "      <td>247.864</td>\n",
       "      <td>229.843</td>\n",
       "      <td>242.716</td>\n",
       "      <td>272.752</td>\n",
       "      <td>230.836</td>\n",
       "      <td>253.935</td>\n",
       "      <td>224.532</td>\n",
       "      <td>166.118</td>\n",
       "      <td>183.648</td>\n",
       "      <td>4689.900</td>\n",
       "      <td>616.656</td>\n",
       "      <td>720.423</td>\n",
       "      <td>757.523</td>\n",
       "      <td>574.298</td>\n",
       "    </tr>\n",
       "    <tr>\n",
       "      <th>12</th>\n",
       "      <td>2009</td>\n",
       "      <td>189.438</td>\n",
       "      <td>191.029</td>\n",
       "      <td>260.701</td>\n",
       "      <td>224.152</td>\n",
       "      <td>237.186</td>\n",
       "      <td>289.579</td>\n",
       "      <td>273.392</td>\n",
       "      <td>247.307</td>\n",
       "      <td>296.424</td>\n",
       "      <td>281.083</td>\n",
       "      <td>238.245</td>\n",
       "      <td>277.606</td>\n",
       "      <td>5027.142</td>\n",
       "      <td>641.168</td>\n",
       "      <td>750.917</td>\n",
       "      <td>817.123</td>\n",
       "      <td>796.934</td>\n",
       "    </tr>\n",
       "    <tr>\n",
       "      <th>11</th>\n",
       "      <td>2010</td>\n",
       "      <td>201.186</td>\n",
       "      <td>211.164</td>\n",
       "      <td>337.119</td>\n",
       "      <td>261.726</td>\n",
       "      <td>235.470</td>\n",
       "      <td>247.272</td>\n",
       "      <td>284.763</td>\n",
       "      <td>296.352</td>\n",
       "      <td>291.235</td>\n",
       "      <td>287.407</td>\n",
       "      <td>311.231</td>\n",
       "      <td>359.354</td>\n",
       "      <td>5345.279</td>\n",
       "      <td>749.469</td>\n",
       "      <td>744.468</td>\n",
       "      <td>872.350</td>\n",
       "      <td>957.992</td>\n",
       "    </tr>\n",
       "    <tr>\n",
       "      <th>10</th>\n",
       "      <td>2011</td>\n",
       "      <td>230.017</td>\n",
       "      <td>258.508</td>\n",
       "      <td>288.480</td>\n",
       "      <td>272.670</td>\n",
       "      <td>300.201</td>\n",
       "      <td>286.547</td>\n",
       "      <td>287.685</td>\n",
       "      <td>305.700</td>\n",
       "      <td>293.322</td>\n",
       "      <td>263.524</td>\n",
       "      <td>304.618</td>\n",
       "      <td>327.395</td>\n",
       "      <td>5439.667</td>\n",
       "      <td>777.005</td>\n",
       "      <td>859.418</td>\n",
       "      <td>886.707</td>\n",
       "      <td>895.537</td>\n",
       "    </tr>\n",
       "    <tr>\n",
       "      <th>9</th>\n",
       "      <td>2012</td>\n",
       "      <td>252.071</td>\n",
       "      <td>234.867</td>\n",
       "      <td>283.726</td>\n",
       "      <td>244.154</td>\n",
       "      <td>273.866</td>\n",
       "      <td>340.202</td>\n",
       "      <td>351.805</td>\n",
       "      <td>404.664</td>\n",
       "      <td>277.108</td>\n",
       "      <td>326.027</td>\n",
       "      <td>296.223</td>\n",
       "      <td>343.002</td>\n",
       "      <td>5648.715</td>\n",
       "      <td>770.664</td>\n",
       "      <td>858.222</td>\n",
       "      <td>1033.577</td>\n",
       "      <td>965.252</td>\n",
       "    </tr>\n",
       "    <tr>\n",
       "      <th>8</th>\n",
       "      <td>2013</td>\n",
       "      <td>296.335</td>\n",
       "      <td>222.087</td>\n",
       "      <td>268.057</td>\n",
       "      <td>316.241</td>\n",
       "      <td>300.315</td>\n",
       "      <td>302.534</td>\n",
       "      <td>323.301</td>\n",
       "      <td>312.260</td>\n",
       "      <td>293.605</td>\n",
       "      <td>313.029</td>\n",
       "      <td>287.858</td>\n",
       "      <td>335.090</td>\n",
       "      <td>5591.712</td>\n",
       "      <td>786.479</td>\n",
       "      <td>919.090</td>\n",
       "      <td>929.166</td>\n",
       "      <td>935.977</td>\n",
       "    </tr>\n",
       "    <tr>\n",
       "      <th>7</th>\n",
       "      <td>2014</td>\n",
       "      <td>299.189</td>\n",
       "      <td>245.666</td>\n",
       "      <td>228.517</td>\n",
       "      <td>279.541</td>\n",
       "      <td>277.608</td>\n",
       "      <td>250.416</td>\n",
       "      <td>279.502</td>\n",
       "      <td>259.161</td>\n",
       "      <td>282.254</td>\n",
       "      <td>291.051</td>\n",
       "      <td>279.476</td>\n",
       "      <td>353.246</td>\n",
       "      <td>5346.627</td>\n",
       "      <td>773.372</td>\n",
       "      <td>807.565</td>\n",
       "      <td>820.917</td>\n",
       "      <td>923.773</td>\n",
       "    </tr>\n",
       "    <tr>\n",
       "      <th>6</th>\n",
       "      <td>2015</td>\n",
       "      <td>242.913</td>\n",
       "      <td>178.395</td>\n",
       "      <td>226.088</td>\n",
       "      <td>211.721</td>\n",
       "      <td>204.827</td>\n",
       "      <td>204.703</td>\n",
       "      <td>219.490</td>\n",
       "      <td>199.904</td>\n",
       "      <td>192.602</td>\n",
       "      <td>185.260</td>\n",
       "      <td>189.327</td>\n",
       "      <td>208.184</td>\n",
       "      <td>4484.414</td>\n",
       "      <td>647.396</td>\n",
       "      <td>621.251</td>\n",
       "      <td>611.996</td>\n",
       "      <td>582.771</td>\n",
       "    </tr>\n",
       "    <tr>\n",
       "      <th>5</th>\n",
       "      <td>2016</td>\n",
       "      <td>149.657</td>\n",
       "      <td>142.048</td>\n",
       "      <td>173.218</td>\n",
       "      <td>157.591</td>\n",
       "      <td>162.223</td>\n",
       "      <td>166.481</td>\n",
       "      <td>174.867</td>\n",
       "      <td>178.060</td>\n",
       "      <td>154.913</td>\n",
       "      <td>154.827</td>\n",
       "      <td>173.562</td>\n",
       "      <td>199.055</td>\n",
       "      <td>4007.502</td>\n",
       "      <td>464.923</td>\n",
       "      <td>486.295</td>\n",
       "      <td>507.840</td>\n",
       "      <td>527.444</td>\n",
       "    </tr>\n",
       "    <tr>\n",
       "      <th>4</th>\n",
       "      <td>2017</td>\n",
       "      <td>143.439</td>\n",
       "      <td>132.280</td>\n",
       "      <td>183.701</td>\n",
       "      <td>152.263</td>\n",
       "      <td>189.960</td>\n",
       "      <td>189.089</td>\n",
       "      <td>178.646</td>\n",
       "      <td>209.736</td>\n",
       "      <td>193.447</td>\n",
       "      <td>196.517</td>\n",
       "      <td>196.909</td>\n",
       "      <td>204.276</td>\n",
       "      <td>4191.263</td>\n",
       "      <td>459.420</td>\n",
       "      <td>531.312</td>\n",
       "      <td>581.829</td>\n",
       "      <td>597.702</td>\n",
       "    </tr>\n",
       "    <tr>\n",
       "      <th>3</th>\n",
       "      <td>2018</td>\n",
       "      <td>175.448</td>\n",
       "      <td>151.635</td>\n",
       "      <td>199.867</td>\n",
       "      <td>209.961</td>\n",
       "      <td>194.913</td>\n",
       "      <td>194.950</td>\n",
       "      <td>208.402</td>\n",
       "      <td>238.511</td>\n",
       "      <td>204.503</td>\n",
       "      <td>244.394</td>\n",
       "      <td>220.927</td>\n",
       "      <td>224.557</td>\n",
       "      <td>4489.068</td>\n",
       "      <td>526.950</td>\n",
       "      <td>599.824</td>\n",
       "      <td>651.416</td>\n",
       "      <td>689.878</td>\n",
       "    </tr>\n",
       "    <tr>\n",
       "      <th>2</th>\n",
       "      <td>2019</td>\n",
       "      <td>190.613</td>\n",
       "      <td>189.812</td>\n",
       "      <td>199.540</td>\n",
       "      <td>221.185</td>\n",
       "      <td>234.066</td>\n",
       "      <td>213.336</td>\n",
       "      <td>232.013</td>\n",
       "      <td>230.499</td>\n",
       "      <td>223.048</td>\n",
       "      <td>241.087</td>\n",
       "      <td>230.701</td>\n",
       "      <td>251.795</td>\n",
       "      <td>4678.695</td>\n",
       "      <td>579.965</td>\n",
       "      <td>668.587</td>\n",
       "      <td>685.560</td>\n",
       "      <td>723.583</td>\n",
       "    </tr>\n",
       "    <tr>\n",
       "      <th>1</th>\n",
       "      <td>2020</td>\n",
       "      <td>184.229</td>\n",
       "      <td>192.554</td>\n",
       "      <td>155.676</td>\n",
       "      <td>51.383</td>\n",
       "      <td>56.656</td>\n",
       "      <td>122.785</td>\n",
       "      <td>162.947</td>\n",
       "      <td>173.058</td>\n",
       "      <td>198.495</td>\n",
       "      <td>205.038</td>\n",
       "      <td>214.256</td>\n",
       "      <td>232.815</td>\n",
       "      <td>3970.892</td>\n",
       "      <td>532.459</td>\n",
       "      <td>230.824</td>\n",
       "      <td>534.500</td>\n",
       "      <td>652.109</td>\n",
       "    </tr>\n",
       "  </tbody>\n",
       "</table>\n",
       "</div>"
      ],
      "text/plain": [
       "     Ano      Jan      Fev      Mar      Abr      Mai      Jun      Jul  \\\n",
       "13  2008  205.078  190.843  220.735  247.864  229.843  242.716  272.752   \n",
       "12  2009  189.438  191.029  260.701  224.152  237.186  289.579  273.392   \n",
       "11  2010  201.186  211.164  337.119  261.726  235.470  247.272  284.763   \n",
       "10  2011  230.017  258.508  288.480  272.670  300.201  286.547  287.685   \n",
       "9   2012  252.071  234.867  283.726  244.154  273.866  340.202  351.805   \n",
       "8   2013  296.335  222.087  268.057  316.241  300.315  302.534  323.301   \n",
       "7   2014  299.189  245.666  228.517  279.541  277.608  250.416  279.502   \n",
       "6   2015  242.913  178.395  226.088  211.721  204.827  204.703  219.490   \n",
       "5   2016  149.657  142.048  173.218  157.591  162.223  166.481  174.867   \n",
       "4   2017  143.439  132.280  183.701  152.263  189.960  189.089  178.646   \n",
       "3   2018  175.448  151.635  199.867  209.961  194.913  194.950  208.402   \n",
       "2   2019  190.613  189.812  199.540  221.185  234.066  213.336  232.013   \n",
       "1   2020  184.229  192.554  155.676   51.383   56.656  122.785  162.947   \n",
       "\n",
       "        Ago      Set      Out      Nov      Dez  Total de Vendas  1ºTrimestre  \\\n",
       "13  230.836  253.935  224.532  166.118  183.648         4689.900      616.656   \n",
       "12  247.307  296.424  281.083  238.245  277.606         5027.142      641.168   \n",
       "11  296.352  291.235  287.407  311.231  359.354         5345.279      749.469   \n",
       "10  305.700  293.322  263.524  304.618  327.395         5439.667      777.005   \n",
       "9   404.664  277.108  326.027  296.223  343.002         5648.715      770.664   \n",
       "8   312.260  293.605  313.029  287.858  335.090         5591.712      786.479   \n",
       "7   259.161  282.254  291.051  279.476  353.246         5346.627      773.372   \n",
       "6   199.904  192.602  185.260  189.327  208.184         4484.414      647.396   \n",
       "5   178.060  154.913  154.827  173.562  199.055         4007.502      464.923   \n",
       "4   209.736  193.447  196.517  196.909  204.276         4191.263      459.420   \n",
       "3   238.511  204.503  244.394  220.927  224.557         4489.068      526.950   \n",
       "2   230.499  223.048  241.087  230.701  251.795         4678.695      579.965   \n",
       "1   173.058  198.495  205.038  214.256  232.815         3970.892      532.459   \n",
       "\n",
       "    2ºTrimestre  3ºTrimestre  4ºTrimestre  \n",
       "13      720.423      757.523      574.298  \n",
       "12      750.917      817.123      796.934  \n",
       "11      744.468      872.350      957.992  \n",
       "10      859.418      886.707      895.537  \n",
       "9       858.222     1033.577      965.252  \n",
       "8       919.090      929.166      935.977  \n",
       "7       807.565      820.917      923.773  \n",
       "6       621.251      611.996      582.771  \n",
       "5       486.295      507.840      527.444  \n",
       "4       531.312      581.829      597.702  \n",
       "3       599.824      651.416      689.878  \n",
       "2       668.587      685.560      723.583  \n",
       "1       230.824      534.500      652.109  "
      ]
     },
     "execution_count": 129,
     "metadata": {},
     "output_type": "execute_result"
    }
   ],
   "source": [
    "dfEmplacamentos"
   ]
  },
  {
   "cell_type": "code",
   "execution_count": 130,
   "metadata": {},
   "outputs": [],
   "source": [
    "#Separando as vendas por trimestres\n",
    "dfvendas_trimestre = dfEmplacamentos[['Ano','1ºTrimestre','2ºTrimestre','3ºTrimestre','4ºTrimestre']]\n"
   ]
  },
  {
   "cell_type": "code",
   "execution_count": 131,
   "metadata": {},
   "outputs": [
    {
     "data": {
      "text/html": [
       "<div>\n",
       "<style scoped>\n",
       "    .dataframe tbody tr th:only-of-type {\n",
       "        vertical-align: middle;\n",
       "    }\n",
       "\n",
       "    .dataframe tbody tr th {\n",
       "        vertical-align: top;\n",
       "    }\n",
       "\n",
       "    .dataframe thead th {\n",
       "        text-align: right;\n",
       "    }\n",
       "</style>\n",
       "<table border=\"1\" class=\"dataframe\">\n",
       "  <thead>\n",
       "    <tr style=\"text-align: right;\">\n",
       "      <th></th>\n",
       "      <th>Ano</th>\n",
       "      <th>1ºTrimestre</th>\n",
       "      <th>2ºTrimestre</th>\n",
       "      <th>3ºTrimestre</th>\n",
       "      <th>4ºTrimestre</th>\n",
       "    </tr>\n",
       "  </thead>\n",
       "  <tbody>\n",
       "    <tr>\n",
       "      <th>13</th>\n",
       "      <td>2008</td>\n",
       "      <td>616.656</td>\n",
       "      <td>720.423</td>\n",
       "      <td>757.523</td>\n",
       "      <td>574.298</td>\n",
       "    </tr>\n",
       "    <tr>\n",
       "      <th>12</th>\n",
       "      <td>2009</td>\n",
       "      <td>641.168</td>\n",
       "      <td>750.917</td>\n",
       "      <td>817.123</td>\n",
       "      <td>796.934</td>\n",
       "    </tr>\n",
       "    <tr>\n",
       "      <th>11</th>\n",
       "      <td>2010</td>\n",
       "      <td>749.469</td>\n",
       "      <td>744.468</td>\n",
       "      <td>872.350</td>\n",
       "      <td>957.992</td>\n",
       "    </tr>\n",
       "    <tr>\n",
       "      <th>10</th>\n",
       "      <td>2011</td>\n",
       "      <td>777.005</td>\n",
       "      <td>859.418</td>\n",
       "      <td>886.707</td>\n",
       "      <td>895.537</td>\n",
       "    </tr>\n",
       "    <tr>\n",
       "      <th>9</th>\n",
       "      <td>2012</td>\n",
       "      <td>770.664</td>\n",
       "      <td>858.222</td>\n",
       "      <td>1033.577</td>\n",
       "      <td>965.252</td>\n",
       "    </tr>\n",
       "    <tr>\n",
       "      <th>8</th>\n",
       "      <td>2013</td>\n",
       "      <td>786.479</td>\n",
       "      <td>919.090</td>\n",
       "      <td>929.166</td>\n",
       "      <td>935.977</td>\n",
       "    </tr>\n",
       "    <tr>\n",
       "      <th>7</th>\n",
       "      <td>2014</td>\n",
       "      <td>773.372</td>\n",
       "      <td>807.565</td>\n",
       "      <td>820.917</td>\n",
       "      <td>923.773</td>\n",
       "    </tr>\n",
       "    <tr>\n",
       "      <th>6</th>\n",
       "      <td>2015</td>\n",
       "      <td>647.396</td>\n",
       "      <td>621.251</td>\n",
       "      <td>611.996</td>\n",
       "      <td>582.771</td>\n",
       "    </tr>\n",
       "    <tr>\n",
       "      <th>5</th>\n",
       "      <td>2016</td>\n",
       "      <td>464.923</td>\n",
       "      <td>486.295</td>\n",
       "      <td>507.840</td>\n",
       "      <td>527.444</td>\n",
       "    </tr>\n",
       "    <tr>\n",
       "      <th>4</th>\n",
       "      <td>2017</td>\n",
       "      <td>459.420</td>\n",
       "      <td>531.312</td>\n",
       "      <td>581.829</td>\n",
       "      <td>597.702</td>\n",
       "    </tr>\n",
       "    <tr>\n",
       "      <th>3</th>\n",
       "      <td>2018</td>\n",
       "      <td>526.950</td>\n",
       "      <td>599.824</td>\n",
       "      <td>651.416</td>\n",
       "      <td>689.878</td>\n",
       "    </tr>\n",
       "    <tr>\n",
       "      <th>2</th>\n",
       "      <td>2019</td>\n",
       "      <td>579.965</td>\n",
       "      <td>668.587</td>\n",
       "      <td>685.560</td>\n",
       "      <td>723.583</td>\n",
       "    </tr>\n",
       "    <tr>\n",
       "      <th>1</th>\n",
       "      <td>2020</td>\n",
       "      <td>532.459</td>\n",
       "      <td>230.824</td>\n",
       "      <td>534.500</td>\n",
       "      <td>652.109</td>\n",
       "    </tr>\n",
       "  </tbody>\n",
       "</table>\n",
       "</div>"
      ],
      "text/plain": [
       "     Ano  1ºTrimestre  2ºTrimestre  3ºTrimestre  4ºTrimestre\n",
       "13  2008      616.656      720.423      757.523      574.298\n",
       "12  2009      641.168      750.917      817.123      796.934\n",
       "11  2010      749.469      744.468      872.350      957.992\n",
       "10  2011      777.005      859.418      886.707      895.537\n",
       "9   2012      770.664      858.222     1033.577      965.252\n",
       "8   2013      786.479      919.090      929.166      935.977\n",
       "7   2014      773.372      807.565      820.917      923.773\n",
       "6   2015      647.396      621.251      611.996      582.771\n",
       "5   2016      464.923      486.295      507.840      527.444\n",
       "4   2017      459.420      531.312      581.829      597.702\n",
       "3   2018      526.950      599.824      651.416      689.878\n",
       "2   2019      579.965      668.587      685.560      723.583\n",
       "1   2020      532.459      230.824      534.500      652.109"
      ]
     },
     "execution_count": 131,
     "metadata": {},
     "output_type": "execute_result"
    }
   ],
   "source": [
    "#dfvendas_trimestre =dfvendas_trimestre.sort_values(by='Ano' , ascending=False)\n",
    "dfvendas_trimestre"
   ]
  },
  {
   "cell_type": "code",
   "execution_count": 132,
   "metadata": {
    "scrolled": true
   },
   "outputs": [
    {
     "data": {
      "image/png": "[encoded data removed]",
      "text/plain": [
       "<Figure size 1296x360 with 1 Axes>"
      ]
     },
     "metadata": {},
     "output_type": "display_data"
    }
   ],
   "source": [
    "#Vemos que os dois ultimos trimestres de 2012 foram os responsaveis pelo recorde de vendas de 2012\n",
    "#Vemos também que a diminuiçcao das vendas de 2016 foi bem dividida ao longo do ano \n",
    "#dfvendas_trimestre.loc[[4,8]].plot(kind='bar', x='Ano', figsize=(15,8),title='Vendas Anuais', grid='True')\n",
    "dfvendas_trimestre.plot(kind='line', x='Ano', figsize=(18,5),title='Vendas Anuais', grid='True')\n",
    "plt.show()"
   ]
  },
  {
   "cell_type": "markdown",
   "metadata": {},
   "source": [
    "A partir do segundo semestre de 2015 verifica-se o ínicio da tendência que é interrompida no início de 2020 pelo começo da crise gerada pela Pandemia."
   ]
  },
  {
   "cell_type": "code",
   "execution_count": 133,
   "metadata": {},
   "outputs": [],
   "source": [
    "#dfvendas_trimestre[\"1ºTrimestre\"].plot()"
   ]
  },
  {
   "cell_type": "code",
   "execution_count": 134,
   "metadata": {},
   "outputs": [
    {
     "data": {
      "text/html": [
       "<div>\n",
       "<style scoped>\n",
       "    .dataframe tbody tr th:only-of-type {\n",
       "        vertical-align: middle;\n",
       "    }\n",
       "\n",
       "    .dataframe tbody tr th {\n",
       "        vertical-align: top;\n",
       "    }\n",
       "\n",
       "    .dataframe thead th {\n",
       "        text-align: right;\n",
       "    }\n",
       "</style>\n",
       "<table border=\"1\" class=\"dataframe\">\n",
       "  <thead>\n",
       "    <tr style=\"text-align: right;\">\n",
       "      <th></th>\n",
       "      <th>Ano</th>\n",
       "      <th>1ºTrimestre</th>\n",
       "      <th>2ºTrimestre</th>\n",
       "      <th>3ºTrimestre</th>\n",
       "      <th>4ºTrimestre</th>\n",
       "    </tr>\n",
       "  </thead>\n",
       "  <tbody>\n",
       "    <tr>\n",
       "      <th>count</th>\n",
       "      <td>13.00000</td>\n",
       "      <td>13.000000</td>\n",
       "      <td>13.000000</td>\n",
       "      <td>13.000000</td>\n",
       "      <td>13.000000</td>\n",
       "    </tr>\n",
       "    <tr>\n",
       "      <th>mean</th>\n",
       "      <td>2014.00000</td>\n",
       "      <td>640.455846</td>\n",
       "      <td>676.784308</td>\n",
       "      <td>745.423385</td>\n",
       "      <td>755.634615</td>\n",
       "    </tr>\n",
       "    <tr>\n",
       "      <th>std</th>\n",
       "      <td>3.89444</td>\n",
       "      <td>122.092885</td>\n",
       "      <td>186.965775</td>\n",
       "      <td>163.751169</td>\n",
       "      <td>164.014081</td>\n",
       "    </tr>\n",
       "    <tr>\n",
       "      <th>min</th>\n",
       "      <td>2008.00000</td>\n",
       "      <td>459.420000</td>\n",
       "      <td>230.824000</td>\n",
       "      <td>507.840000</td>\n",
       "      <td>527.444000</td>\n",
       "    </tr>\n",
       "    <tr>\n",
       "      <th>25%</th>\n",
       "      <td>2011.00000</td>\n",
       "      <td>532.459000</td>\n",
       "      <td>599.824000</td>\n",
       "      <td>611.996000</td>\n",
       "      <td>597.702000</td>\n",
       "    </tr>\n",
       "    <tr>\n",
       "      <th>50%</th>\n",
       "      <td>2014.00000</td>\n",
       "      <td>641.168000</td>\n",
       "      <td>720.423000</td>\n",
       "      <td>757.523000</td>\n",
       "      <td>723.583000</td>\n",
       "    </tr>\n",
       "    <tr>\n",
       "      <th>75%</th>\n",
       "      <td>2017.00000</td>\n",
       "      <td>770.664000</td>\n",
       "      <td>807.565000</td>\n",
       "      <td>872.350000</td>\n",
       "      <td>923.773000</td>\n",
       "    </tr>\n",
       "    <tr>\n",
       "      <th>max</th>\n",
       "      <td>2020.00000</td>\n",
       "      <td>786.479000</td>\n",
       "      <td>919.090000</td>\n",
       "      <td>1033.577000</td>\n",
       "      <td>965.252000</td>\n",
       "    </tr>\n",
       "  </tbody>\n",
       "</table>\n",
       "</div>"
      ],
      "text/plain": [
       "              Ano  1ºTrimestre  2ºTrimestre  3ºTrimestre  4ºTrimestre\n",
       "count    13.00000    13.000000    13.000000    13.000000    13.000000\n",
       "mean   2014.00000   640.455846   676.784308   745.423385   755.634615\n",
       "std       3.89444   122.092885   186.965775   163.751169   164.014081\n",
       "min    2008.00000   459.420000   230.824000   507.840000   527.444000\n",
       "25%    2011.00000   532.459000   599.824000   611.996000   597.702000\n",
       "50%    2014.00000   641.168000   720.423000   757.523000   723.583000\n",
       "75%    2017.00000   770.664000   807.565000   872.350000   923.773000\n",
       "max    2020.00000   786.479000   919.090000  1033.577000   965.252000"
      ]
     },
     "execution_count": 134,
     "metadata": {},
     "output_type": "execute_result"
    }
   ],
   "source": [
    "##Dados Estatisticos sobre as variáveis\n",
    "dfvendas_trimestre.describe()"
   ]
  },
  {
   "cell_type": "code",
   "execution_count": 135,
   "metadata": {},
   "outputs": [
    {
     "data": {
      "text/plain": [
       "<AxesSubplot:>"
      ]
     },
     "execution_count": 135,
     "metadata": {},
     "output_type": "execute_result"
    },
    {
     "data": {
      "image/png": "[encoded data removed]",
      "text/plain": [
       "<Figure size 1080x360 with 1 Axes>"
      ]
     },
     "metadata": {},
     "output_type": "display_data"
    }
   ],
   "source": [
    "#Gráfico de Caixas para análises estatísticas e outliers(mínimos,máximos,médias, quartis e as discrepâncias) das vendas trimestrais de 2008 a 2020.\n",
    "dfvendas_trimestre.drop('Ano', axis=1).boxplot(color='#4169e1',figsize='15,5')"
   ]
  },
  {
   "cell_type": "code",
   "execution_count": 136,
   "metadata": {},
   "outputs": [
    {
     "data": {
      "image/png": "[encoded data removed]",
      "text/plain": [
       "<Figure size 432x288 with 2 Axes>"
      ]
     },
     "metadata": {},
     "output_type": "display_data"
    }
   ],
   "source": [
    "    sns.heatmap(dfvendas_trimestre.drop('Ano', axis='columns').corr()\n",
    "               )\n",
    "    plt.show()"
   ]
  },
  {
   "cell_type": "markdown",
   "metadata": {},
   "source": [
    "Através do mapa de correlação, percebemos forte sasonalidade ao final de cada semestre."
   ]
  },
  {
   "cell_type": "markdown",
   "metadata": {},
   "source": [
    "# Análise da Serie Temporal\n",
    "Qual o comportamento da série temporal do total de vendas mês/ano no periodo de 2008 a 2020?\n"
   ]
  },
  {
   "cell_type": "code",
   "execution_count": 225,
   "metadata": {},
   "outputs": [
    {
     "data": {
      "text/html": [
       "<div>\n",
       "<style scoped>\n",
       "    .dataframe tbody tr th:only-of-type {\n",
       "        vertical-align: middle;\n",
       "    }\n",
       "\n",
       "    .dataframe tbody tr th {\n",
       "        vertical-align: top;\n",
       "    }\n",
       "\n",
       "    .dataframe thead th {\n",
       "        text-align: right;\n",
       "    }\n",
       "</style>\n",
       "<table border=\"1\" class=\"dataframe\">\n",
       "  <thead>\n",
       "    <tr style=\"text-align: right;\">\n",
       "      <th></th>\n",
       "      <th>Ano</th>\n",
       "      <th>Total de Vendas</th>\n",
       "    </tr>\n",
       "  </thead>\n",
       "  <tbody>\n",
       "    <tr>\n",
       "      <th>10</th>\n",
       "      <td>2011</td>\n",
       "      <td>5439.667</td>\n",
       "    </tr>\n",
       "    <tr>\n",
       "      <th>9</th>\n",
       "      <td>2012</td>\n",
       "      <td>5648.715</td>\n",
       "    </tr>\n",
       "    <tr>\n",
       "      <th>8</th>\n",
       "      <td>2013</td>\n",
       "      <td>5591.712</td>\n",
       "    </tr>\n",
       "    <tr>\n",
       "      <th>7</th>\n",
       "      <td>2014</td>\n",
       "      <td>5346.627</td>\n",
       "    </tr>\n",
       "    <tr>\n",
       "      <th>6</th>\n",
       "      <td>2015</td>\n",
       "      <td>4484.414</td>\n",
       "    </tr>\n",
       "    <tr>\n",
       "      <th>5</th>\n",
       "      <td>2016</td>\n",
       "      <td>4007.502</td>\n",
       "    </tr>\n",
       "    <tr>\n",
       "      <th>4</th>\n",
       "      <td>2017</td>\n",
       "      <td>4191.263</td>\n",
       "    </tr>\n",
       "    <tr>\n",
       "      <th>3</th>\n",
       "      <td>2018</td>\n",
       "      <td>4489.068</td>\n",
       "    </tr>\n",
       "    <tr>\n",
       "      <th>2</th>\n",
       "      <td>2019</td>\n",
       "      <td>4678.695</td>\n",
       "    </tr>\n",
       "    <tr>\n",
       "      <th>1</th>\n",
       "      <td>2020</td>\n",
       "      <td>3970.892</td>\n",
       "    </tr>\n",
       "  </tbody>\n",
       "</table>\n",
       "</div>"
      ],
      "text/plain": [
       "     Ano  Total de Vendas\n",
       "10  2011         5439.667\n",
       "9   2012         5648.715\n",
       "8   2013         5591.712\n",
       "7   2014         5346.627\n",
       "6   2015         4484.414\n",
       "5   2016         4007.502\n",
       "4   2017         4191.263\n",
       "3   2018         4489.068\n",
       "2   2019         4678.695\n",
       "1   2020         3970.892"
      ]
     },
     "execution_count": 225,
     "metadata": {},
     "output_type": "execute_result"
    }
   ],
   "source": [
    "# Dividindo as bases\n",
    "\n",
    "ts_treino = dfEmplacamentos[['Ano','Total de Vendas']].iloc[3:,0:2].copy()\n",
    "ts_teste =  dfEmplacamentos[['Ano','Total de Vendas']].iloc[:3,0:3].copy()\n",
    "ts_treino\n",
    "#ts_teste"
   ]
  },
  {
   "cell_type": "code",
   "execution_count": 226,
   "metadata": {},
   "outputs": [
    {
     "data": {
      "text/html": [
       "<div>\n",
       "<style scoped>\n",
       "    .dataframe tbody tr th:only-of-type {\n",
       "        vertical-align: middle;\n",
       "    }\n",
       "\n",
       "    .dataframe tbody tr th {\n",
       "        vertical-align: top;\n",
       "    }\n",
       "\n",
       "    .dataframe thead th {\n",
       "        text-align: right;\n",
       "    }\n",
       "</style>\n",
       "<table border=\"1\" class=\"dataframe\">\n",
       "  <thead>\n",
       "    <tr style=\"text-align: right;\">\n",
       "      <th></th>\n",
       "      <th>Total de Vendas</th>\n",
       "    </tr>\n",
       "    <tr>\n",
       "      <th>Ano</th>\n",
       "      <th></th>\n",
       "    </tr>\n",
       "  </thead>\n",
       "  <tbody>\n",
       "    <tr>\n",
       "      <th>2008-01-01</th>\n",
       "      <td>4689.900</td>\n",
       "    </tr>\n",
       "    <tr>\n",
       "      <th>2009-01-01</th>\n",
       "      <td>5027.142</td>\n",
       "    </tr>\n",
       "    <tr>\n",
       "      <th>2010-01-01</th>\n",
       "      <td>5345.279</td>\n",
       "    </tr>\n",
       "  </tbody>\n",
       "</table>\n",
       "</div>"
      ],
      "text/plain": [
       "            Total de Vendas\n",
       "Ano                        \n",
       "2008-01-01         4689.900\n",
       "2009-01-01         5027.142\n",
       "2010-01-01         5345.279"
      ]
     },
     "execution_count": 226,
     "metadata": {},
     "output_type": "execute_result"
    }
   ],
   "source": [
    "# Início da base de teste\n",
    "ts_teste['Ano'] = pd.to_datetime(ts_teste['Ano'], format=\"%Y\")\n",
    "ts_teste.set_index('Ano', inplace=True)\n",
    "ts_teste"
   ]
  },
  {
   "cell_type": "code",
   "execution_count": 227,
   "metadata": {},
   "outputs": [
    {
     "data": {
      "text/html": [
       "<div>\n",
       "<style scoped>\n",
       "    .dataframe tbody tr th:only-of-type {\n",
       "        vertical-align: middle;\n",
       "    }\n",
       "\n",
       "    .dataframe tbody tr th {\n",
       "        vertical-align: top;\n",
       "    }\n",
       "\n",
       "    .dataframe thead th {\n",
       "        text-align: right;\n",
       "    }\n",
       "</style>\n",
       "<table border=\"1\" class=\"dataframe\">\n",
       "  <thead>\n",
       "    <tr style=\"text-align: right;\">\n",
       "      <th></th>\n",
       "      <th>Total de Vendas</th>\n",
       "    </tr>\n",
       "    <tr>\n",
       "      <th>Ano</th>\n",
       "      <th></th>\n",
       "    </tr>\n",
       "  </thead>\n",
       "  <tbody>\n",
       "    <tr>\n",
       "      <th>2011-01-01</th>\n",
       "      <td>5439.667</td>\n",
       "    </tr>\n",
       "    <tr>\n",
       "      <th>2012-01-01</th>\n",
       "      <td>5648.715</td>\n",
       "    </tr>\n",
       "    <tr>\n",
       "      <th>2013-01-01</th>\n",
       "      <td>5591.712</td>\n",
       "    </tr>\n",
       "    <tr>\n",
       "      <th>2014-01-01</th>\n",
       "      <td>5346.627</td>\n",
       "    </tr>\n",
       "    <tr>\n",
       "      <th>2015-01-01</th>\n",
       "      <td>4484.414</td>\n",
       "    </tr>\n",
       "    <tr>\n",
       "      <th>2016-01-01</th>\n",
       "      <td>4007.502</td>\n",
       "    </tr>\n",
       "    <tr>\n",
       "      <th>2017-01-01</th>\n",
       "      <td>4191.263</td>\n",
       "    </tr>\n",
       "    <tr>\n",
       "      <th>2018-01-01</th>\n",
       "      <td>4489.068</td>\n",
       "    </tr>\n",
       "    <tr>\n",
       "      <th>2019-01-01</th>\n",
       "      <td>4678.695</td>\n",
       "    </tr>\n",
       "    <tr>\n",
       "      <th>2020-01-01</th>\n",
       "      <td>3970.892</td>\n",
       "    </tr>\n",
       "  </tbody>\n",
       "</table>\n",
       "</div>"
      ],
      "text/plain": [
       "            Total de Vendas\n",
       "Ano                        \n",
       "2011-01-01         5439.667\n",
       "2012-01-01         5648.715\n",
       "2013-01-01         5591.712\n",
       "2014-01-01         5346.627\n",
       "2015-01-01         4484.414\n",
       "2016-01-01         4007.502\n",
       "2017-01-01         4191.263\n",
       "2018-01-01         4489.068\n",
       "2019-01-01         4678.695\n",
       "2020-01-01         3970.892"
      ]
     },
     "execution_count": 227,
     "metadata": {},
     "output_type": "execute_result"
    }
   ],
   "source": [
    "# Final da base de treino\n",
    "ts_treino['Ano'] = pd.to_datetime(ts_treino['Ano'], format=\"%Y\")\n",
    "ts_treino.set_index('Ano',inplace=True)\n",
    "ts_treino"
   ]
  },
  {
   "cell_type": "code",
   "execution_count": 228,
   "metadata": {
    "scrolled": true
   },
   "outputs": [
    {
     "data": {
      "image/png": "[encoded data removed]",
      "text/plain": [
       "<Figure size 432x288 with 4 Axes>"
      ]
     },
     "metadata": {},
     "output_type": "display_data"
    }
   ],
   "source": [
    "# Decomposição dos dados da base de treinamento\n",
    "decomposicao = seasonal_decompose(ts_treino, period=2)\n",
    "imagem = decomposicao.plot()"
   ]
  },
  {
   "cell_type": "code",
   "execution_count": 230,
   "metadata": {},
   "outputs": [],
   "source": [
    "# Aplicando a diferenciação na série e removendo dados nulos\n",
    "ts_treino_diff_1 = ts_treino.diff()\n",
    "ts_treino_diff_1 = ts_treino_diff_1.dropna()"
   ]
  },
  {
   "cell_type": "code",
   "execution_count": 231,
   "metadata": {},
   "outputs": [
    {
     "data": {
      "image/png": "[encoded data removed]",
      "text/plain": [
       "<Figure size 432x288 with 4 Axes>"
      ]
     },
     "metadata": {},
     "output_type": "display_data"
    }
   ],
   "source": [
    "# Decomposição dos dados da base de treinamento\n",
    "decomposicao = seasonal_decompose(ts_treino_diff_1, period=3)\n",
    "imagem = decomposicao.plot()"
   ]
  },
  {
   "cell_type": "code",
   "execution_count": null,
   "metadata": {},
   "outputs": [],
   "source": []
  },
  {
   "cell_type": "code",
   "execution_count": 232,
   "metadata": {
    "scrolled": true
   },
   "outputs": [
    {
     "data": {
      "image/png": "[encoded data removed]",
      "text/plain": [
       "<Figure size 432x288 with 1 Axes>"
      ]
     },
     "metadata": {},
     "output_type": "display_data"
    }
   ],
   "source": [
    "# Gráfico de autocorrelação\n",
    "sm.graphics.tsa.plot_acf(ts_treino.values.squeeze(), lags=5)\n",
    "plt.show()"
   ]
  },
  {
   "cell_type": "code",
   "execution_count": 233,
   "metadata": {},
   "outputs": [
    {
     "data": {
      "image/png": "[encoded data removed]",
      "text/plain": [
       "<Figure size 432x288 with 1 Axes>"
      ]
     },
     "metadata": {},
     "output_type": "display_data"
    }
   ],
   "source": [
    "# Gráfico da autocorrelação parcial\n",
    "sm.graphics.tsa.plot_pacf(ts_treino.values.squeeze(), lags=4)\n",
    "plt.show()"
   ]
  },
  {
   "cell_type": "code",
   "execution_count": 271,
   "metadata": {},
   "outputs": [
    {
     "name": "stderr",
     "output_type": "stream",
     "text": [
      "C:\\Users\\Ivan\\anaconda3\\lib\\site-packages\\statsmodels\\tsa\\arima_model.py:472: FutureWarning: \n",
      "statsmodels.tsa.arima_model.ARMA and statsmodels.tsa.arima_model.ARIMA have\n",
      "been deprecated in favor of statsmodels.tsa.arima.model.ARIMA (note the .\n",
      "between arima and model) and\n",
      "statsmodels.tsa.SARIMAX. These will be removed after the 0.12 release.\n",
      "\n",
      "statsmodels.tsa.arima.model.ARIMA makes use of the statespace framework and\n",
      "is both well tested and maintained.\n",
      "\n",
      "To silence this warning and continue using ARMA and ARIMA until they are\n",
      "removed, use:\n",
      "\n",
      "import warnings\n",
      "warnings.filterwarnings('ignore', 'statsmodels.tsa.arima_model.ARMA',\n",
      "                        FutureWarning)\n",
      "warnings.filterwarnings('ignore', 'statsmodels.tsa.arima_model.ARIMA',\n",
      "                        FutureWarning)\n",
      "\n",
      "  warnings.warn(ARIMA_DEPRECATION_WARN, FutureWarning)\n"
     ]
    }
   ],
   "source": [
    "# Criando o modelo\n",
    "modelo = ARIMA(ts_treino, order=(0,1,1), freq=ts_treino.index.inferred_freq)\n",
    "warnings.filterwarnings(\"ignore\", category=DeprecationWarning)\n"
   ]
  },
  {
   "cell_type": "code",
   "execution_count": 272,
   "metadata": {},
   "outputs": [
    {
     "name": "stderr",
     "output_type": "stream",
     "text": [
      "C:\\Users\\Ivan\\anaconda3\\lib\\site-packages\\statsmodels\\tsa\\arima_model.py:472: FutureWarning: \n",
      "statsmodels.tsa.arima_model.ARMA and statsmodels.tsa.arima_model.ARIMA have\n",
      "been deprecated in favor of statsmodels.tsa.arima.model.ARIMA (note the .\n",
      "between arima and model) and\n",
      "statsmodels.tsa.SARIMAX. These will be removed after the 0.12 release.\n",
      "\n",
      "statsmodels.tsa.arima.model.ARIMA makes use of the statespace framework and\n",
      "is both well tested and maintained.\n",
      "\n",
      "To silence this warning and continue using ARMA and ARIMA until they are\n",
      "removed, use:\n",
      "\n",
      "import warnings\n",
      "warnings.filterwarnings('ignore', 'statsmodels.tsa.arima_model.ARMA',\n",
      "                        FutureWarning)\n",
      "warnings.filterwarnings('ignore', 'statsmodels.tsa.arima_model.ARIMA',\n",
      "                        FutureWarning)\n",
      "\n",
      "  warnings.warn(ARIMA_DEPRECATION_WARN, FutureWarning)\n"
     ]
    }
   ],
   "source": [
    "# Ajustando o modelo de acordo com os parâmetros\n",
    "modelo_ajustado = modelo.fit(disp=0)"
   ]
  },
  {
   "cell_type": "code",
   "execution_count": 273,
   "metadata": {},
   "outputs": [
    {
     "data": {
      "text/html": [
       "<table class=\"simpletable\">\n",
       "<caption>ARIMA Model Results</caption>\n",
       "<tr>\n",
       "  <th>Dep. Variable:</th> <td>D.Total de Vendas</td> <th>  No. Observations:  </th>    <td>9</td>   \n",
       "</tr>\n",
       "<tr>\n",
       "  <th>Model:</th>          <td>ARIMA(0, 1, 1)</td>   <th>  Log Likelihood     </th> <td>-65.880</td>\n",
       "</tr>\n",
       "<tr>\n",
       "  <th>Method:</th>             <td>css-mle</td>      <th>  S.D. of innovations</th> <td>321.563</td>\n",
       "</tr>\n",
       "<tr>\n",
       "  <th>Date:</th>          <td>Sun, 02 May 2021</td>  <th>  AIC                </th> <td>137.761</td>\n",
       "</tr>\n",
       "<tr>\n",
       "  <th>Time:</th>              <td>15:56:53</td>      <th>  BIC                </th> <td>138.353</td>\n",
       "</tr>\n",
       "<tr>\n",
       "  <th>Sample:</th>           <td>01-01-2012</td>     <th>  HQIC               </th> <td>136.484</td>\n",
       "</tr>\n",
       "<tr>\n",
       "  <th></th>                 <td>- 01-01-2020</td>    <th>                     </th>    <td> </td>   \n",
       "</tr>\n",
       "</table>\n",
       "<table class=\"simpletable\">\n",
       "<tr>\n",
       "             <td></td>                <th>coef</th>     <th>std err</th>      <th>z</th>      <th>P>|z|</th>  <th>[0.025</th>    <th>0.975]</th>  \n",
       "</tr>\n",
       "<tr>\n",
       "  <th>const</th>                   <td> -184.5832</td> <td>  203.374</td> <td>   -0.908</td> <td> 0.364</td> <td> -583.189</td> <td>  214.023</td>\n",
       "</tr>\n",
       "<tr>\n",
       "  <th>ma.L1.D.Total de Vendas</th> <td>    1.0000</td> <td>    0.491</td> <td>    2.038</td> <td> 0.042</td> <td>    0.038</td> <td>    1.962</td>\n",
       "</tr>\n",
       "</table>\n",
       "<table class=\"simpletable\">\n",
       "<caption>Roots</caption>\n",
       "<tr>\n",
       "    <td></td>   <th>            Real</th>  <th>         Imaginary</th> <th>         Modulus</th>  <th>        Frequency</th>\n",
       "</tr>\n",
       "<tr>\n",
       "  <th>MA.1</th> <td>          -1.0000</td> <td>          +0.0000j</td> <td>           1.0000</td> <td>           0.5000</td>\n",
       "</tr>\n",
       "</table>"
      ],
      "text/plain": [
       "<class 'statsmodels.iolib.summary.Summary'>\n",
       "\"\"\"\n",
       "                             ARIMA Model Results                              \n",
       "==============================================================================\n",
       "Dep. Variable:      D.Total de Vendas   No. Observations:                    9\n",
       "Model:                 ARIMA(0, 1, 1)   Log Likelihood                 -65.880\n",
       "Method:                       css-mle   S.D. of innovations            321.563\n",
       "Date:                Sun, 02 May 2021   AIC                            137.761\n",
       "Time:                        15:56:53   BIC                            138.353\n",
       "Sample:                    01-01-2012   HQIC                           136.484\n",
       "                         - 01-01-2020                                         \n",
       "===========================================================================================\n",
       "                              coef    std err          z      P>|z|      [0.025      0.975]\n",
       "-------------------------------------------------------------------------------------------\n",
       "const                    -184.5832    203.374     -0.908      0.364    -583.189     214.023\n",
       "ma.L1.D.Total de Vendas     1.0000      0.491      2.038      0.042       0.038       1.962\n",
       "                                    Roots                                    \n",
       "=============================================================================\n",
       "                  Real          Imaginary           Modulus         Frequency\n",
       "-----------------------------------------------------------------------------\n",
       "MA.1           -1.0000           +0.0000j            1.0000            0.5000\n",
       "-----------------------------------------------------------------------------\n",
       "\"\"\""
      ]
     },
     "execution_count": 273,
     "metadata": {},
     "output_type": "execute_result"
    }
   ],
   "source": [
    "# Exibe dados do modelo, como valores AIC e BIC obtidos.\n",
    "modelo_ajustado.summary()\n"
   ]
  },
  {
   "cell_type": "code",
   "execution_count": 274,
   "metadata": {},
   "outputs": [
    {
     "name": "stdout",
     "output_type": "stream",
     "text": [
      "ADF Statistic: -0.877334\n",
      "p-value: 0.795345\n",
      "Critical Values:\n",
      "\t1%: -5.354\n",
      "\t5%: -3.646\n",
      "\t10%: -2.901\n"
     ]
    }
   ],
   "source": [
    "# Teste Dickey-Fuller\n",
    "#Com o p-value 0 podemos considerar a serie estacionaria\n",
    "teste_adf(ts_treino['Total de Vendas'])"
   ]
  },
  {
   "cell_type": "code",
   "execution_count": 275,
   "metadata": {},
   "outputs": [
    {
     "data": {
      "image/png": "[encoded data removed]",
      "text/plain": [
       "<Figure size 432x288 with 2 Axes>"
      ]
     },
     "metadata": {},
     "output_type": "display_data"
    }
   ],
   "source": [
    "# Gráfico com os erros residuais do modelo ajustado\n",
    "redisuais = pd.DataFrame(modelo_ajustado.resid)\n",
    "fig, ax = plt.subplots(1,2)\n",
    "redisuais.plot(title=\"Residuais\", ax=ax[0])\n",
    "redisuais.plot(kind='kde', title='Densidade', ax=ax[1])\n",
    "plt.show()"
   ]
  },
  {
   "cell_type": "code",
   "execution_count": 276,
   "metadata": {},
   "outputs": [
    {
     "data": {
      "image/png": "[encoded data removed]",
      "text/plain": [
       "<Figure size 432x288 with 1 Axes>"
      ]
     },
     "metadata": {},
     "output_type": "display_data"
    }
   ],
   "source": [
    "# Dados atuais x Modelo\n",
    "modelo_ajustado.plot_predict(dynamic=False)\n",
    "plt.show()"
   ]
  },
  {
   "cell_type": "code",
   "execution_count": 277,
   "metadata": {
    "scrolled": true
   },
   "outputs": [
    {
     "data": {
      "text/html": [
       "<div>\n",
       "<style scoped>\n",
       "    .dataframe tbody tr th:only-of-type {\n",
       "        vertical-align: middle;\n",
       "    }\n",
       "\n",
       "    .dataframe tbody tr th {\n",
       "        vertical-align: top;\n",
       "    }\n",
       "\n",
       "    .dataframe thead th {\n",
       "        text-align: right;\n",
       "    }\n",
       "</style>\n",
       "<table border=\"1\" class=\"dataframe\">\n",
       "  <thead>\n",
       "    <tr style=\"text-align: right;\">\n",
       "      <th></th>\n",
       "      <th>0</th>\n",
       "    </tr>\n",
       "  </thead>\n",
       "  <tbody>\n",
       "    <tr>\n",
       "      <th>count</th>\n",
       "      <td>9.000000</td>\n",
       "    </tr>\n",
       "    <tr>\n",
       "      <th>mean</th>\n",
       "      <td>-13.771781</td>\n",
       "    </tr>\n",
       "    <tr>\n",
       "      <th>std</th>\n",
       "      <td>380.916718</td>\n",
       "    </tr>\n",
       "    <tr>\n",
       "      <th>min</th>\n",
       "      <td>-666.871156</td>\n",
       "    </tr>\n",
       "    <tr>\n",
       "      <th>25%</th>\n",
       "      <td>-69.235406</td>\n",
       "    </tr>\n",
       "    <tr>\n",
       "      <th>50%</th>\n",
       "      <td>77.648594</td>\n",
       "    </tr>\n",
       "    <tr>\n",
       "      <th>75%</th>\n",
       "      <td>241.168113</td>\n",
       "    </tr>\n",
       "    <tr>\n",
       "      <th>max</th>\n",
       "      <td>393.631188</td>\n",
       "    </tr>\n",
       "  </tbody>\n",
       "</table>\n",
       "</div>"
      ],
      "text/plain": [
       "                0\n",
       "count    9.000000\n",
       "mean   -13.771781\n",
       "std    380.916718\n",
       "min   -666.871156\n",
       "25%    -69.235406\n",
       "50%     77.648594\n",
       "75%    241.168113\n",
       "max    393.631188"
      ]
     },
     "execution_count": 277,
     "metadata": {},
     "output_type": "execute_result"
    }
   ],
   "source": [
    "redisuais.describe()"
   ]
  },
  {
   "cell_type": "raw",
   "metadata": {},
   "source": [
    "# Conclusão\n",
    "\n",
    "Através da técnica de Scrapping foi obtida a série temporal para o emplacamento mensal dos últimos anos.O emplacamento mensal reflete as vendas mensais de veículos novos no Brasil.\n",
    "\n",
    "Após as análises realizadas conclui-se que o melhor ano para as vendas de veículos novos no Brasil foi o de 2012, enquanto que o ano de 2016 apresentou o menor índice de vendas.\n",
    "Observando o gráfico Trimestral, pode-se perceber que os melhores Trimestres para a venda de veículos são os 4º trimestres. sendo os 1º Trimestres os que apresentam menor índice de vendas. Foi observado também que em 2015 houve uma inversão de vendas ao longo dos trimestres.\n",
    "Ao iniciar a análise da série Temporal, constata-se que, para uma análise mais precisa, é necessário a utilização de dataset mais extenso tanto para o treinamento do modelo, decomposição sazonal quanto para a predição dos dados.\n",
    "A decomposição sazonal demonstrou que a partir de 2015 as vendas de veículos novos estão em uma tendência de alta e que, no período análisado, foi observado alta sazonalidade entre os anos. \n",
    "O mercado de vendas de veículos novos no Brasil já sofria com a queda no período de 2014 a 2016. A partir de 2017 o mercado se preparava para um período de alta nas vendas, porém foi interrompido com a crise gerada pela pandemia da covid-19, marcando assim um novo período de baixa a partir de 2020.\n",
    "Para a predição foram testados os modelos de Regressão linear, Random Forest e o ARMA (ARIMA): os dois primeiros apresentaram altos níveis de erros, provavelmente pela baixa quantidade de dados do nosso DataSet; o modelo ARIMA foi escolhido por possibilitar a manipulação de configurações de forma mais prática para o usuário.\n",
    "\n",
    "\n",
    "\n",
    "\n",
    "\n"
   ]
  },
  {
   "cell_type": "code",
   "execution_count": null,
   "metadata": {},
   "outputs": [],
   "source": []
  }
 ],
 "metadata": {
  "kernelspec": {
   "display_name": "Python 3",
   "language": "python",
   "name": "python3"
  },
  "language_info": {
   "codemirror_mode": {
    "name": "ipython",
    "version": 3
   },
   "file_extension": ".py",
   "mimetype": "text/x-python",
   "name": "python",
   "nbconvert_exporter": "python",
   "pygments_lexer": "ipython3",
   "version": "3.8.5"
  }
 },
 "nbformat": 4,
 "nbformat_minor": 4
}
