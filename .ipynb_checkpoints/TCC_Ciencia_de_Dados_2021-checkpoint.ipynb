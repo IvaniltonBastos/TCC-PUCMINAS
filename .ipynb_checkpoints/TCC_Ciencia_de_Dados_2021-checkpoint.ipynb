{
 "cells": [
  {
   "cell_type": "markdown",
   "metadata": {
    "id": "78x8kEDPyTQS"
   },
   "source": [
    "# PUC Minas Pós Graduação em Ciência de Dados e Big Data (2019-2020) Trabalho de Conclusão de Curso"
   ]
  },
  {
   "cell_type": "markdown",
   "metadata": {
    "id": "IfFAzbEFyTQU"
   },
   "source": [
    "Aluno: Ivanilton Ferreira Bastos\n",
    "\n",
    "Notebook relativo ao Trabalho de Conclusão de Curso em Ciência de Dados e Big Data.\n",
    "\n",
    "Titulo:Análise de series temporais e predição de vendas de veículos novos no Brasil utilizando técnica de Web Scrapping e ARIMA, período utilizado de 2011 a 2020.\n",
    "Foram utilizados dados aberto do Site www.autoo.com.br"
   ]
  },
  {
   "cell_type": "code",
   "execution_count": 58,
   "metadata": {
    "id": "Crbkmy0pyTQX"
   },
   "outputs": [],
   "source": [
    "#Importando Bibliotecas utilizadas \n",
    "import pandas as pd\n",
    "import warnings\n",
    "import requests\n",
    "from bs4 import BeautifulSoup\n",
    "import warnings\n",
    "import numpy as np\n",
    "import seaborn as sns\n",
    "import statsmodels.api as sm\n",
    "import matplotlib.pyplot as plt\n",
    "from matplotlib.pylab import rcParams\n",
    "from statsmodels.tsa.stattools import adfuller\n",
    "from statsmodels.tsa.seasonal import seasonal_decompose\n",
    "from statsmodels.tsa.arima_model import ARIMA\n",
    "\n",
    "\n",
    "\n"
   ]
  },
  {
   "cell_type": "code",
   "execution_count": 59,
   "metadata": {
    "id": "s0DkogtsyTQZ"
   },
   "outputs": [],
   "source": [
    "#Função para o Scraping de dados da Web\n",
    "def buscar_Tabela():\n",
    "    \n",
    "    url = 'https://www.autoo.com.br/emplacamentos/'\n",
    "    print(url)\n",
    "    req = requests.get(url)\n",
    "    if req.status_code == 200:\n",
    "        print('Requisição bem sucedida!')\n",
    "        content = req.content\n",
    "        \n",
    "    soup = BeautifulSoup(content, 'html.parser')\n",
    "    table = soup.find(name='table')\n",
    "    \n",
    "    table_str = str(table)\n",
    "    tabela = 'Emplacamentos'\n",
    "    dfDados = pd.read_html(table_str)[0]\n",
    "    \n",
    "    dfDados = dfDados.to_csv(tabela + '.csv', encoding = 'utf-8')\n",
    "   \n",
    "    print('Foi criado o arquivo de Dados ' + tabela+ '.csv')\n",
    "    \n",
    "def teste_adf(serie):\n",
    "    '''\n",
    "    Função para exibir o teste Augmented Dickey-Fuller.\n",
    "    '''\n",
    "    result = adfuller(serie)\n",
    "    print('ADF Statistic: %f' % result[0])\n",
    "    print('p-value: %f' % result[1])\n",
    "    print('Critical Values:')\n",
    "    for key, value in result[4].items():\n",
    "        print('\\t%s: %.3f' % (key, value))\n",
    "       "
   ]
  },
  {
   "cell_type": "code",
   "execution_count": 60,
   "metadata": {
    "colab": {
     "base_uri": "https://localhost:8080/"
    },
    "id": "SiqyfeU3yTQa",
    "outputId": "02d6ffb9-e780-4288-ee93-8e52a45c14fd"
   },
   "outputs": [
    {
     "name": "stdout",
     "output_type": "stream",
     "text": [
      "https://www.autoo.com.br/emplacamentos/\n",
      "Requisição bem sucedida!\n",
      "Foi criado o arquivo de Dados Emplacamentos.csv\n"
     ]
    }
   ],
   "source": [
    "#https://www.autoo.com.br/emplacamentos/\n",
    "#Emplacamentos\n",
    "buscar_Tabela()"
   ]
  },
  {
   "cell_type": "code",
   "execution_count": 61,
   "metadata": {
    "colab": {
     "base_uri": "https://localhost:8080/",
     "height": 244
    },
    "id": "SSpkP6-MyTQc",
    "outputId": "a0cbbe2b-049d-4990-c853-fd8eb5a9e06a"
   },
   "outputs": [
    {
     "data": {
      "text/html": [
       "<div>\n",
       "<style scoped>\n",
       "    .dataframe tbody tr th:only-of-type {\n",
       "        vertical-align: middle;\n",
       "    }\n",
       "\n",
       "    .dataframe tbody tr th {\n",
       "        vertical-align: top;\n",
       "    }\n",
       "\n",
       "    .dataframe thead th {\n",
       "        text-align: right;\n",
       "    }\n",
       "</style>\n",
       "<table border=\"1\" class=\"dataframe\">\n",
       "  <thead>\n",
       "    <tr style=\"text-align: right;\">\n",
       "      <th></th>\n",
       "      <th>Unnamed: 0</th>\n",
       "      <th>Ano</th>\n",
       "      <th>Jan</th>\n",
       "      <th>Fev</th>\n",
       "      <th>Mar</th>\n",
       "      <th>Abr</th>\n",
       "      <th>Mai</th>\n",
       "      <th>Jun</th>\n",
       "      <th>Jul</th>\n",
       "      <th>Ago</th>\n",
       "      <th>Set</th>\n",
       "      <th>Out</th>\n",
       "      <th>Nov</th>\n",
       "      <th>Dez</th>\n",
       "      <th>Total</th>\n",
       "    </tr>\n",
       "  </thead>\n",
       "  <tbody>\n",
       "    <tr>\n",
       "      <th>0</th>\n",
       "      <td>0</td>\n",
       "      <td>2021</td>\n",
       "      <td>162.761</td>\n",
       "      <td>158.210</td>\n",
       "      <td>177.013</td>\n",
       "      <td>163.830</td>\n",
       "      <td>175.517</td>\n",
       "      <td>169.118</td>\n",
       "      <td>NaN</td>\n",
       "      <td>NaN</td>\n",
       "      <td>NaN</td>\n",
       "      <td>NaN</td>\n",
       "      <td>NaN</td>\n",
       "      <td>NaN</td>\n",
       "      <td>1.006.449</td>\n",
       "    </tr>\n",
       "    <tr>\n",
       "      <th>1</th>\n",
       "      <td>1</td>\n",
       "      <td>2020</td>\n",
       "      <td>184.229</td>\n",
       "      <td>192.554</td>\n",
       "      <td>155.676</td>\n",
       "      <td>51.383</td>\n",
       "      <td>56.656</td>\n",
       "      <td>122.785</td>\n",
       "      <td>162.947</td>\n",
       "      <td>173.058</td>\n",
       "      <td>198.495</td>\n",
       "      <td>205.038</td>\n",
       "      <td>214.256</td>\n",
       "      <td>232.815</td>\n",
       "      <td>1.949.892</td>\n",
       "    </tr>\n",
       "    <tr>\n",
       "      <th>2</th>\n",
       "      <td>2</td>\n",
       "      <td>2019</td>\n",
       "      <td>190.684</td>\n",
       "      <td>189.812</td>\n",
       "      <td>199.540</td>\n",
       "      <td>221.244</td>\n",
       "      <td>234.066</td>\n",
       "      <td>213.359</td>\n",
       "      <td>232.024</td>\n",
       "      <td>230.500</td>\n",
       "      <td>223.048</td>\n",
       "      <td>241.088</td>\n",
       "      <td>230.709</td>\n",
       "      <td>252.093</td>\n",
       "      <td>2.658.167</td>\n",
       "    </tr>\n",
       "    <tr>\n",
       "      <th>3</th>\n",
       "      <td>3</td>\n",
       "      <td>2018</td>\n",
       "      <td>175.448</td>\n",
       "      <td>151.635</td>\n",
       "      <td>199.867</td>\n",
       "      <td>209.961</td>\n",
       "      <td>194.913</td>\n",
       "      <td>194.950</td>\n",
       "      <td>208.402</td>\n",
       "      <td>238.511</td>\n",
       "      <td>204.503</td>\n",
       "      <td>244.394</td>\n",
       "      <td>220.927</td>\n",
       "      <td>224.557</td>\n",
       "      <td>2.468.068</td>\n",
       "    </tr>\n",
       "    <tr>\n",
       "      <th>4</th>\n",
       "      <td>4</td>\n",
       "      <td>2017</td>\n",
       "      <td>143.439</td>\n",
       "      <td>132.280</td>\n",
       "      <td>183.701</td>\n",
       "      <td>152.263</td>\n",
       "      <td>189.960</td>\n",
       "      <td>189.089</td>\n",
       "      <td>178.646</td>\n",
       "      <td>209.736</td>\n",
       "      <td>193.447</td>\n",
       "      <td>196.517</td>\n",
       "      <td>196.909</td>\n",
       "      <td>204.311</td>\n",
       "      <td>2.170.298</td>\n",
       "    </tr>\n",
       "  </tbody>\n",
       "</table>\n",
       "</div>"
      ],
      "text/plain": [
       "   Unnamed: 0   Ano      Jan      Fev      Mar      Abr      Mai      Jun  \\\n",
       "0           0  2021  162.761  158.210  177.013  163.830  175.517  169.118   \n",
       "1           1  2020  184.229  192.554  155.676   51.383   56.656  122.785   \n",
       "2           2  2019  190.684  189.812  199.540  221.244  234.066  213.359   \n",
       "3           3  2018  175.448  151.635  199.867  209.961  194.913  194.950   \n",
       "4           4  2017  143.439  132.280  183.701  152.263  189.960  189.089   \n",
       "\n",
       "       Jul      Ago      Set      Out      Nov      Dez      Total  \n",
       "0      NaN      NaN      NaN      NaN      NaN      NaN  1.006.449  \n",
       "1  162.947  173.058  198.495  205.038  214.256  232.815  1.949.892  \n",
       "2  232.024  230.500  223.048  241.088  230.709  252.093  2.658.167  \n",
       "3  208.402  238.511  204.503  244.394  220.927  224.557  2.468.068  \n",
       "4  178.646  209.736  193.447  196.517  196.909  204.311  2.170.298  "
      ]
     },
     "execution_count": 61,
     "metadata": {},
     "output_type": "execute_result"
    }
   ],
   "source": [
    "#Alocando os dados do arquivo csv criado a partir da tabela da web\n",
    "#Tratamento da coluna Ano para o formato Data\n",
    "dfEmplacamentos = pd.read_csv('Emplacamentos.csv', encoding='utf-8')\n",
    "#dfEmplacamentos.set_index('Ano',inplace=True)\n",
    "#dfEplacamentos[['Jan','Fev','Mar','Abr','Mai','Jun','Jul','Ago','Set','Out','Nov','Dez']] = dfEmplacamentos[['Jan','Fev','Mar','Abr','Mai','Jun','Jul','Ago','Set','Out','Nov','Dez']].astype(float)\n",
    "\n",
    "#dfEmplacamentos['Ano']= dfEmplacamentos['Ano'].dt.year\n",
    "#dfEmplacamentos['Ano'] = pd.DatetimeIndex(dfEmplacamentos['Ano']).year \n",
    "dfEmplacamentos.head()"
   ]
  },
  {
   "cell_type": "markdown",
   "metadata": {
    "id": "_zTTsdbSyTQe"
   },
   "source": [
    "# Tratamento dos dados"
   ]
  },
  {
   "cell_type": "code",
   "execution_count": 62,
   "metadata": {
    "colab": {
     "base_uri": "https://localhost:8080/"
    },
    "id": "aGn0Vl6_yTQf",
    "outputId": "c5373904-b1c4-489b-f640-e73392dfdba2"
   },
   "outputs": [
    {
     "data": {
      "text/plain": [
       "Unnamed: 0      int64\n",
       "Ano             int64\n",
       "Jan           float64\n",
       "Fev           float64\n",
       "Mar           float64\n",
       "Abr           float64\n",
       "Mai           float64\n",
       "Jun           float64\n",
       "Jul           float64\n",
       "Ago           float64\n",
       "Set           float64\n",
       "Out           float64\n",
       "Nov           float64\n",
       "Dez           float64\n",
       "Total          object\n",
       "dtype: object"
      ]
     },
     "execution_count": 62,
     "metadata": {},
     "output_type": "execute_result"
    }
   ],
   "source": [
    "#Verificando o tipo dos Dados\n",
    "dfEmplacamentos.dtypes\n"
   ]
  },
  {
   "cell_type": "code",
   "execution_count": 63,
   "metadata": {
    "id": "pK7HtRo4yTQu"
   },
   "outputs": [],
   "source": [
    "#excluindo a coluna Total e recriando a partir da soma dos valor \n",
    "dfEmplacamentos.drop('Total', axis=1, inplace=True)\n",
    "dfEmplacamentos['Total de Vendas'] = dfEmplacamentos.sum(axis=1)\n",
    "dfEmplacamentos = dfEmplacamentos.head(15)"
   ]
  },
  {
   "cell_type": "code",
   "execution_count": 64,
   "metadata": {
    "colab": {
     "base_uri": "https://localhost:8080/"
    },
    "id": "VpAOHdUzyTQw",
    "outputId": "ca81e120-fa65-4f53-e55b-d8597df21872"
   },
   "outputs": [
    {
     "data": {
      "text/plain": [
       "Unnamed: 0           int64\n",
       "Ano                  int64\n",
       "Jan                float64\n",
       "Fev                float64\n",
       "Mar                float64\n",
       "Abr                float64\n",
       "Mai                float64\n",
       "Jun                float64\n",
       "Jul                float64\n",
       "Ago                float64\n",
       "Set                float64\n",
       "Out                float64\n",
       "Nov                float64\n",
       "Dez                float64\n",
       "Total de Vendas    float64\n",
       "dtype: object"
      ]
     },
     "execution_count": 64,
     "metadata": {},
     "output_type": "execute_result"
    }
   ],
   "source": [
    "dfEmplacamentos.dtypes"
   ]
  },
  {
   "cell_type": "code",
   "execution_count": 65,
   "metadata": {
    "colab": {
     "base_uri": "https://localhost:8080/"
    },
    "id": "MvTtNBY4yTQz",
    "outputId": "bca47a84-cf80-40fa-913d-0d0dfaaa1ad7",
    "scrolled": true
   },
   "outputs": [
    {
     "data": {
      "text/plain": [
       "Unnamed: 0         0\n",
       "Ano                0\n",
       "Jan                0\n",
       "Fev                0\n",
       "Mar                0\n",
       "Abr                0\n",
       "Mai                0\n",
       "Jun                0\n",
       "Jul                1\n",
       "Ago                1\n",
       "Set                1\n",
       "Out                1\n",
       "Nov                1\n",
       "Dez                1\n",
       "Total de Vendas    0\n",
       "dtype: int64"
      ]
     },
     "execution_count": 65,
     "metadata": {},
     "output_type": "execute_result"
    }
   ],
   "source": [
    "#Verificando os campos com valores em branco\n",
    "dfEmplacamentos.isnull().sum()"
   ]
  },
  {
   "cell_type": "code",
   "execution_count": 66,
   "metadata": {
    "id": "H2kr5J4qyTQ1"
   },
   "outputs": [],
   "source": [
    "#Selecionando apenas os últimos dez anos \n",
    "#dfEmplacamentos = dfEmplacamentos.head(10)"
   ]
  },
  {
   "cell_type": "code",
   "execution_count": 67,
   "metadata": {
    "id": "tXb-Y5NCyTQ1"
   },
   "outputs": [],
   "source": [
    "#retirando a coluna criada pelo pandas para indexação \n",
    "dfEmplacamentos.drop('Unnamed: 0', axis=1, inplace=True)\n",
    "dfEmplacamentos.drop(0,inplace=True)"
   ]
  },
  {
   "cell_type": "code",
   "execution_count": 68,
   "metadata": {
    "id": "OwGnJuOLyTQ2"
   },
   "outputs": [],
   "source": [
    "#Ordenando os dados pela coluna Ano\n",
    "dfEmplacamentos.sort_values('Ano', ascending=True, inplace=True)\n",
    "#dfEmplacamentos = dfEmplacamentos['Total de Vendas'].replace(',', '')"
   ]
  },
  {
   "cell_type": "markdown",
   "metadata": {
    "id": "_XQAd4VJyTQ3"
   },
   "source": [
    "## Análise exploratória dos dados\n",
    "\n",
    "Para orientar a análise dos dados realizei algumas pergundas\n",
    "\n",
    "1. Qual foi o melhor ano para as vendas de veículos no Brasil\n",
    "\n",
    "2. Qual foi o pior ano para as vendas de veículos no Brasil\n",
    "3. Como foi o comportamento das vendas de veículos por Trimestre\n",
    "4. parametros estatisticos para as vendas anuais e trimestrais\n"
   ]
  },
  {
   "cell_type": "code",
   "execution_count": 69,
   "metadata": {
    "id": "4K0PwD60yTQ3"
   },
   "outputs": [],
   "source": [
    "#Dados Estatisticos sobre as variáveis\n",
    "dfEstatisticas = dfEmplacamentos.drop(columns=['Ano','Total de Vendas'],axis=1).describe()\n",
    "dfEstatisticas\n",
    "Media = dfEstatisticas.loc['mean']\n",
    "dfMedia = pd.DataFrame(data=Media,columns=['Mes','Media de Vendas'])\n",
    "dfMedia =  dfEstatisticas.loc['mean']\n",
    "dfMedia = pd.DataFrame(np.array(Media).reshape(12, 1), columns = list(\"A\"))\n",
    "#dataset = pd.DataFrame({'Column1': Media[:, 0], 'Column2': data[:, 1]})\n",
    "#ataset\n"
   ]
  },
  {
   "cell_type": "code",
   "execution_count": 70,
   "metadata": {
    "colab": {
     "base_uri": "https://localhost:8080/",
     "height": 426
    },
    "id": "_dAQPZ5lyTQ3",
    "outputId": "78f5fcc4-2910-4c8b-96e9-5d664c38ae8c"
   },
   "outputs": [
    {
     "data": {
      "text/html": [
       "<div>\n",
       "<style scoped>\n",
       "    .dataframe tbody tr th:only-of-type {\n",
       "        vertical-align: middle;\n",
       "    }\n",
       "\n",
       "    .dataframe tbody tr th {\n",
       "        vertical-align: top;\n",
       "    }\n",
       "\n",
       "    .dataframe thead th {\n",
       "        text-align: right;\n",
       "    }\n",
       "</style>\n",
       "<table border=\"1\" class=\"dataframe\">\n",
       "  <thead>\n",
       "    <tr style=\"text-align: right;\">\n",
       "      <th></th>\n",
       "      <th>A</th>\n",
       "    </tr>\n",
       "  </thead>\n",
       "  <tbody>\n",
       "    <tr>\n",
       "      <th>0</th>\n",
       "      <td>212.283385</td>\n",
       "    </tr>\n",
       "    <tr>\n",
       "      <th>1</th>\n",
       "      <td>195.452923</td>\n",
       "    </tr>\n",
       "    <tr>\n",
       "      <th>2</th>\n",
       "      <td>232.725000</td>\n",
       "    </tr>\n",
       "    <tr>\n",
       "      <th>3</th>\n",
       "      <td>219.270077</td>\n",
       "    </tr>\n",
       "    <tr>\n",
       "      <th>4</th>\n",
       "      <td>222.856462</td>\n",
       "    </tr>\n",
       "    <tr>\n",
       "      <th>5</th>\n",
       "      <td>234.664077</td>\n",
       "    </tr>\n",
       "    <tr>\n",
       "      <th>6</th>\n",
       "      <td>249.967385</td>\n",
       "    </tr>\n",
       "    <tr>\n",
       "      <th>7</th>\n",
       "      <td>252.773000</td>\n",
       "    </tr>\n",
       "    <tr>\n",
       "      <th>8</th>\n",
       "      <td>242.683923</td>\n",
       "    </tr>\n",
       "    <tr>\n",
       "      <th>9</th>\n",
       "      <td>247.213615</td>\n",
       "    </tr>\n",
       "    <tr>\n",
       "      <th>10</th>\n",
       "      <td>239.189154</td>\n",
       "    </tr>\n",
       "    <tr>\n",
       "      <th>11</th>\n",
       "      <td>269.258154</td>\n",
       "    </tr>\n",
       "  </tbody>\n",
       "</table>\n",
       "</div>"
      ],
      "text/plain": [
       "             A\n",
       "0   212.283385\n",
       "1   195.452923\n",
       "2   232.725000\n",
       "3   219.270077\n",
       "4   222.856462\n",
       "5   234.664077\n",
       "6   249.967385\n",
       "7   252.773000\n",
       "8   242.683923\n",
       "9   247.213615\n",
       "10  239.189154\n",
       "11  269.258154"
      ]
     },
     "execution_count": 70,
     "metadata": {},
     "output_type": "execute_result"
    }
   ],
   "source": [
    "dfMedia = pd.DataFrame(np.array(Media).reshape(12, 1), columns = list(\"A\"))\n",
    "dfMedia\n"
   ]
  },
  {
   "cell_type": "code",
   "execution_count": 71,
   "metadata": {
    "colab": {
     "base_uri": "https://localhost:8080/",
     "height": 532
    },
    "id": "2dPGrURGyTQ5",
    "outputId": "6758c37a-00a5-4aa6-c362-794315f94faa"
   },
   "outputs": [
    {
     "data": {
      "image/png": "[encoded data removed]",
      "text/plain": [
       "<Figure size 1080x576 with 1 Axes>"
      ]
     },
     "metadata": {},
     "output_type": "display_data"
    }
   ],
   "source": [
    "#Melhor Ano para as Vendas de Veículos no Brasil\n",
    "plt.style.use(\"ggplot\")\n",
    "dfEmplacamentos[['Ano','Total de Vendas']].plot(kind='bar', x='Ano', figsize=(15,8),title='Vendas Anuais', grid='True',alpha = .6, color = \"orange\")\n",
    "#dfMedia[['Ano','Total de Vendas']].plot(kind='line', figsize=(15,8),title='Vendas Anuais', grid='True')\n",
    "plt.style.use(\"ggplot\")\n",
    "plt.show()\n"
   ]
  },
  {
   "cell_type": "markdown",
   "metadata": {
    "id": "-m8tiUA1yTRB"
   },
   "source": [
    "### Podemos verificar através do gráfico de barras que o pior ano para as vendas de veículos foi o de 2016 e que os melhores anos foram os de 2012 e 2013.\n"
   ]
  },
  {
   "cell_type": "code",
   "execution_count": 72,
   "metadata": {
    "id": "cBzxd37VyTRB"
   },
   "outputs": [],
   "source": [
    "#plt.style.use(\"ggplot\")\n",
    "#plt.figure(figsize = (15, 8))\n",
    "#dfEmplacamentos[['Ano','Total de Vendas']].hist(bins = 40, ec = \"k\", alpha = .6, color = \"royalblue\")\n",
    "#plt.title('Ano')\n",
    "#plt.xlabel(\"Período\")\n",
    "#plt.ylabel(\"Vendas em Milhares de Veículos\")"
   ]
  },
  {
   "cell_type": "code",
   "execution_count": 76,
   "metadata": {
    "colab": {
     "base_uri": "https://localhost:8080/",
     "height": 320
    },
    "id": "KE9ew22QyTRC",
    "outputId": "37d52298-1b2e-4f66-9adf-c5ffd114d5b6"
   },
   "outputs": [
    {
     "data": {
      "text/html": [
       "<div>\n",
       "<style scoped>\n",
       "    .dataframe tbody tr th:only-of-type {\n",
       "        vertical-align: middle;\n",
       "    }\n",
       "\n",
       "    .dataframe tbody tr th {\n",
       "        vertical-align: top;\n",
       "    }\n",
       "\n",
       "    .dataframe thead th {\n",
       "        text-align: right;\n",
       "    }\n",
       "</style>\n",
       "<table border=\"1\" class=\"dataframe\">\n",
       "  <thead>\n",
       "    <tr style=\"text-align: right;\">\n",
       "      <th></th>\n",
       "      <th>Jan</th>\n",
       "      <th>Fev</th>\n",
       "      <th>Mar</th>\n",
       "      <th>Abr</th>\n",
       "      <th>Mai</th>\n",
       "      <th>Jun</th>\n",
       "      <th>Jul</th>\n",
       "      <th>Ago</th>\n",
       "      <th>Set</th>\n",
       "      <th>Out</th>\n",
       "      <th>Nov</th>\n",
       "      <th>Dez</th>\n",
       "      <th>1ºTrimestre</th>\n",
       "      <th>2ºTrimestre</th>\n",
       "      <th>3ºTrimestre</th>\n",
       "      <th>4ºTrimestre</th>\n",
       "    </tr>\n",
       "  </thead>\n",
       "  <tbody>\n",
       "    <tr>\n",
       "      <th>count</th>\n",
       "      <td>13.000000</td>\n",
       "      <td>13.000000</td>\n",
       "      <td>13.000000</td>\n",
       "      <td>13.000000</td>\n",
       "      <td>13.000000</td>\n",
       "      <td>13.000000</td>\n",
       "      <td>13.000000</td>\n",
       "      <td>13.00000</td>\n",
       "      <td>13.000000</td>\n",
       "      <td>13.000000</td>\n",
       "      <td>13.000000</td>\n",
       "      <td>13.000000</td>\n",
       "      <td>13.000000</td>\n",
       "      <td>13.000000</td>\n",
       "      <td>13.000000</td>\n",
       "      <td>13.000000</td>\n",
       "    </tr>\n",
       "    <tr>\n",
       "      <th>mean</th>\n",
       "      <td>212.283385</td>\n",
       "      <td>195.452923</td>\n",
       "      <td>232.725000</td>\n",
       "      <td>219.270077</td>\n",
       "      <td>222.856462</td>\n",
       "      <td>234.664077</td>\n",
       "      <td>249.967385</td>\n",
       "      <td>252.77300</td>\n",
       "      <td>242.683923</td>\n",
       "      <td>247.213615</td>\n",
       "      <td>239.189154</td>\n",
       "      <td>269.258154</td>\n",
       "      <td>640.461308</td>\n",
       "      <td>676.790615</td>\n",
       "      <td>745.424308</td>\n",
       "      <td>755.660923</td>\n",
       "    </tr>\n",
       "    <tr>\n",
       "      <th>std</th>\n",
       "      <td>49.515983</td>\n",
       "      <td>38.882205</td>\n",
       "      <td>52.365884</td>\n",
       "      <td>68.177787</td>\n",
       "      <td>65.579275</td>\n",
       "      <td>60.618830</td>\n",
       "      <td>58.878469</td>\n",
       "      <td>63.99558</td>\n",
       "      <td>49.759413</td>\n",
       "      <td>52.262158</td>\n",
       "      <td>51.367664</td>\n",
       "      <td>65.966842</td>\n",
       "      <td>122.089955</td>\n",
       "      <td>186.965477</td>\n",
       "      <td>163.750803</td>\n",
       "      <td>164.006295</td>\n",
       "    </tr>\n",
       "    <tr>\n",
       "      <th>min</th>\n",
       "      <td>143.439000</td>\n",
       "      <td>132.280000</td>\n",
       "      <td>155.676000</td>\n",
       "      <td>51.383000</td>\n",
       "      <td>56.656000</td>\n",
       "      <td>122.785000</td>\n",
       "      <td>162.947000</td>\n",
       "      <td>173.05800</td>\n",
       "      <td>154.913000</td>\n",
       "      <td>154.827000</td>\n",
       "      <td>166.118000</td>\n",
       "      <td>183.648000</td>\n",
       "      <td>459.420000</td>\n",
       "      <td>230.824000</td>\n",
       "      <td>507.840000</td>\n",
       "      <td>527.444000</td>\n",
       "    </tr>\n",
       "    <tr>\n",
       "      <th>25%</th>\n",
       "      <td>184.229000</td>\n",
       "      <td>178.395000</td>\n",
       "      <td>199.540000</td>\n",
       "      <td>209.961000</td>\n",
       "      <td>194.913000</td>\n",
       "      <td>194.950000</td>\n",
       "      <td>208.402000</td>\n",
       "      <td>209.73600</td>\n",
       "      <td>198.495000</td>\n",
       "      <td>205.038000</td>\n",
       "      <td>196.909000</td>\n",
       "      <td>208.184000</td>\n",
       "      <td>532.459000</td>\n",
       "      <td>599.824000</td>\n",
       "      <td>611.996000</td>\n",
       "      <td>597.737000</td>\n",
       "    </tr>\n",
       "    <tr>\n",
       "      <th>50%</th>\n",
       "      <td>201.186000</td>\n",
       "      <td>191.029000</td>\n",
       "      <td>226.088000</td>\n",
       "      <td>224.152000</td>\n",
       "      <td>234.066000</td>\n",
       "      <td>242.716000</td>\n",
       "      <td>272.752000</td>\n",
       "      <td>238.51100</td>\n",
       "      <td>253.935000</td>\n",
       "      <td>244.394000</td>\n",
       "      <td>230.709000</td>\n",
       "      <td>252.093000</td>\n",
       "      <td>641.168000</td>\n",
       "      <td>720.423000</td>\n",
       "      <td>757.523000</td>\n",
       "      <td>723.890000</td>\n",
       "    </tr>\n",
       "    <tr>\n",
       "      <th>75%</th>\n",
       "      <td>242.913000</td>\n",
       "      <td>222.087000</td>\n",
       "      <td>268.057000</td>\n",
       "      <td>261.726000</td>\n",
       "      <td>273.866000</td>\n",
       "      <td>286.547000</td>\n",
       "      <td>284.763000</td>\n",
       "      <td>296.35200</td>\n",
       "      <td>291.235000</td>\n",
       "      <td>287.407000</td>\n",
       "      <td>287.858000</td>\n",
       "      <td>335.090000</td>\n",
       "      <td>770.664000</td>\n",
       "      <td>807.565000</td>\n",
       "      <td>872.350000</td>\n",
       "      <td>923.773000</td>\n",
       "    </tr>\n",
       "    <tr>\n",
       "      <th>max</th>\n",
       "      <td>299.189000</td>\n",
       "      <td>258.508000</td>\n",
       "      <td>337.119000</td>\n",
       "      <td>316.241000</td>\n",
       "      <td>300.315000</td>\n",
       "      <td>340.202000</td>\n",
       "      <td>351.805000</td>\n",
       "      <td>404.66400</td>\n",
       "      <td>296.424000</td>\n",
       "      <td>326.027000</td>\n",
       "      <td>311.231000</td>\n",
       "      <td>359.354000</td>\n",
       "      <td>786.479000</td>\n",
       "      <td>919.090000</td>\n",
       "      <td>1033.577000</td>\n",
       "      <td>965.252000</td>\n",
       "    </tr>\n",
       "  </tbody>\n",
       "</table>\n",
       "</div>"
      ],
      "text/plain": [
       "              Jan         Fev         Mar         Abr         Mai         Jun  \\\n",
       "count   13.000000   13.000000   13.000000   13.000000   13.000000   13.000000   \n",
       "mean   212.283385  195.452923  232.725000  219.270077  222.856462  234.664077   \n",
       "std     49.515983   38.882205   52.365884   68.177787   65.579275   60.618830   \n",
       "min    143.439000  132.280000  155.676000   51.383000   56.656000  122.785000   \n",
       "25%    184.229000  178.395000  199.540000  209.961000  194.913000  194.950000   \n",
       "50%    201.186000  191.029000  226.088000  224.152000  234.066000  242.716000   \n",
       "75%    242.913000  222.087000  268.057000  261.726000  273.866000  286.547000   \n",
       "max    299.189000  258.508000  337.119000  316.241000  300.315000  340.202000   \n",
       "\n",
       "              Jul        Ago         Set         Out         Nov         Dez  \\\n",
       "count   13.000000   13.00000   13.000000   13.000000   13.000000   13.000000   \n",
       "mean   249.967385  252.77300  242.683923  247.213615  239.189154  269.258154   \n",
       "std     58.878469   63.99558   49.759413   52.262158   51.367664   65.966842   \n",
       "min    162.947000  173.05800  154.913000  154.827000  166.118000  183.648000   \n",
       "25%    208.402000  209.73600  198.495000  205.038000  196.909000  208.184000   \n",
       "50%    272.752000  238.51100  253.935000  244.394000  230.709000  252.093000   \n",
       "75%    284.763000  296.35200  291.235000  287.407000  287.858000  335.090000   \n",
       "max    351.805000  404.66400  296.424000  326.027000  311.231000  359.354000   \n",
       "\n",
       "       1ºTrimestre  2ºTrimestre  3ºTrimestre  4ºTrimestre  \n",
       "count    13.000000    13.000000    13.000000    13.000000  \n",
       "mean    640.461308   676.790615   745.424308   755.660923  \n",
       "std     122.089955   186.965477   163.750803   164.006295  \n",
       "min     459.420000   230.824000   507.840000   527.444000  \n",
       "25%     532.459000   599.824000   611.996000   597.737000  \n",
       "50%     641.168000   720.423000   757.523000   723.890000  \n",
       "75%     770.664000   807.565000   872.350000   923.773000  \n",
       "max     786.479000   919.090000  1033.577000   965.252000  "
      ]
     },
     "execution_count": 76,
     "metadata": {},
     "output_type": "execute_result"
    }
   ],
   "source": [
    "#Dados Estatisticos sobre as variáveis\n",
    "dfEmplacamentos.drop(columns=['Ano','Total de Vendas',],axis=1).describe()"
   ]
  },
  {
   "cell_type": "code",
   "execution_count": 77,
   "metadata": {
    "colab": {
     "base_uri": "https://localhost:8080/",
     "height": 337
    },
    "id": "06rvqMB0yTRD",
    "outputId": "86f74ffa-25e2-47c8-df14-95098684615f"
   },
   "outputs": [
    {
     "data": {
      "text/plain": [
       "<AxesSubplot:>"
      ]
     },
     "execution_count": 77,
     "metadata": {},
     "output_type": "execute_result"
    },
    {
     "data": {
      "image/png": "[encoded data removed]",
      "text/plain": [
       "<Figure size 1080x360 with 1 Axes>"
      ]
     },
     "metadata": {},
     "output_type": "display_data"
    }
   ],
   "source": [
    "#Gráfico de Caixas para análises estatísticas das vendas pelos meses e os outliers(mínimos,máximos,médias, quartis e as discrepâncias) das vendas mensais de 2011 a 2020.\n",
    "plt.style.use(\"ggplot\")\n",
    "dfEmplacamentos.drop(columns=['Ano','Total de Vendas'], axis=1).boxplot(color='ORANGE',figsize='15,5')\n",
    "#dfEmplacamentos"
   ]
  },
  {
   "cell_type": "markdown",
   "metadata": {
    "id": "mMdTqjqhyTRE"
   },
   "source": [
    "Através do gráfico de caixas, podemos verificar um outlier no mês de maio, esta discrepância é devido a falta de dados para o mês no ano corrente. \n",
    "No mês de abril, verificamos a mínima histórica para as vendas, provavelmente puxada pelo mês no ano de 2020.\n",
    "Já a máxima Histórica de vendas é verificada no mês de agosto, provavelmente influenciado pelos anos de 2012 e 2013.\n",
    "Podemos visualizar também, que as medianas de vendas se movem 200 e 250 mil vendas mensais.\n",
    "Podemos observar que o mês de dezembro possuí a maior dispersão de dados."
   ]
  },
  {
   "cell_type": "code",
   "execution_count": 78,
   "metadata": {
    "id": "xLLm4woUyTRE"
   },
   "outputs": [],
   "source": [
    "#Sabendo que o ano de 2012 foi o melhor ano para as vendas, e que o completo de 2016 foi o pior, qual o trimestre que teve maior influencia nesse resultado\n",
    "dfEmplacamentos['1ºTrimestre'] = dfEmplacamentos['Jan']+dfEmplacamentos['Fev']+dfEmplacamentos['Mar']\n",
    "dfEmplacamentos['2ºTrimestre'] = dfEmplacamentos['Abr']+dfEmplacamentos['Mai']+dfEmplacamentos['Jun']\n",
    "dfEmplacamentos['3ºTrimestre'] = dfEmplacamentos['Jul']+dfEmplacamentos['Ago']+dfEmplacamentos['Set']\n",
    "dfEmplacamentos['4ºTrimestre'] = dfEmplacamentos['Out']+dfEmplacamentos['Nov']+dfEmplacamentos['Dez']\n"
   ]
  },
  {
   "cell_type": "code",
   "execution_count": 79,
   "metadata": {
    "colab": {
     "base_uri": "https://localhost:8080/",
     "height": 495
    },
    "id": "AGEqNkruyTRF",
    "outputId": "87cb01cb-7c90-4b9e-f977-a02c4becd7a1",
    "scrolled": true
   },
   "outputs": [
    {
     "data": {
      "text/html": [
       "<div>\n",
       "<style scoped>\n",
       "    .dataframe tbody tr th:only-of-type {\n",
       "        vertical-align: middle;\n",
       "    }\n",
       "\n",
       "    .dataframe tbody tr th {\n",
       "        vertical-align: top;\n",
       "    }\n",
       "\n",
       "    .dataframe thead th {\n",
       "        text-align: right;\n",
       "    }\n",
       "</style>\n",
       "<table border=\"1\" class=\"dataframe\">\n",
       "  <thead>\n",
       "    <tr style=\"text-align: right;\">\n",
       "      <th></th>\n",
       "      <th>Ano</th>\n",
       "      <th>Jan</th>\n",
       "      <th>Fev</th>\n",
       "      <th>Mar</th>\n",
       "      <th>Abr</th>\n",
       "      <th>Mai</th>\n",
       "      <th>Jun</th>\n",
       "      <th>Jul</th>\n",
       "      <th>Ago</th>\n",
       "      <th>Set</th>\n",
       "      <th>Out</th>\n",
       "      <th>Nov</th>\n",
       "      <th>Dez</th>\n",
       "      <th>Total de Vendas</th>\n",
       "      <th>1ºTrimestre</th>\n",
       "      <th>2ºTrimestre</th>\n",
       "      <th>3ºTrimestre</th>\n",
       "      <th>4ºTrimestre</th>\n",
       "    </tr>\n",
       "  </thead>\n",
       "  <tbody>\n",
       "    <tr>\n",
       "      <th>13</th>\n",
       "      <td>2008</td>\n",
       "      <td>205.078</td>\n",
       "      <td>190.843</td>\n",
       "      <td>220.735</td>\n",
       "      <td>247.864</td>\n",
       "      <td>229.843</td>\n",
       "      <td>242.716</td>\n",
       "      <td>272.752</td>\n",
       "      <td>230.836</td>\n",
       "      <td>253.935</td>\n",
       "      <td>224.532</td>\n",
       "      <td>166.118</td>\n",
       "      <td>183.648</td>\n",
       "      <td>4689.900</td>\n",
       "      <td>616.656</td>\n",
       "      <td>720.423</td>\n",
       "      <td>757.523</td>\n",
       "      <td>574.298</td>\n",
       "    </tr>\n",
       "    <tr>\n",
       "      <th>12</th>\n",
       "      <td>2009</td>\n",
       "      <td>189.438</td>\n",
       "      <td>191.029</td>\n",
       "      <td>260.701</td>\n",
       "      <td>224.152</td>\n",
       "      <td>237.186</td>\n",
       "      <td>289.579</td>\n",
       "      <td>273.392</td>\n",
       "      <td>247.307</td>\n",
       "      <td>296.424</td>\n",
       "      <td>281.083</td>\n",
       "      <td>238.245</td>\n",
       "      <td>277.606</td>\n",
       "      <td>5027.142</td>\n",
       "      <td>641.168</td>\n",
       "      <td>750.917</td>\n",
       "      <td>817.123</td>\n",
       "      <td>796.934</td>\n",
       "    </tr>\n",
       "    <tr>\n",
       "      <th>11</th>\n",
       "      <td>2010</td>\n",
       "      <td>201.186</td>\n",
       "      <td>211.164</td>\n",
       "      <td>337.119</td>\n",
       "      <td>261.726</td>\n",
       "      <td>235.470</td>\n",
       "      <td>247.272</td>\n",
       "      <td>284.763</td>\n",
       "      <td>296.352</td>\n",
       "      <td>291.235</td>\n",
       "      <td>287.407</td>\n",
       "      <td>311.231</td>\n",
       "      <td>359.354</td>\n",
       "      <td>5345.279</td>\n",
       "      <td>749.469</td>\n",
       "      <td>744.468</td>\n",
       "      <td>872.350</td>\n",
       "      <td>957.992</td>\n",
       "    </tr>\n",
       "    <tr>\n",
       "      <th>10</th>\n",
       "      <td>2011</td>\n",
       "      <td>230.017</td>\n",
       "      <td>258.508</td>\n",
       "      <td>288.480</td>\n",
       "      <td>272.670</td>\n",
       "      <td>300.201</td>\n",
       "      <td>286.547</td>\n",
       "      <td>287.685</td>\n",
       "      <td>305.700</td>\n",
       "      <td>293.322</td>\n",
       "      <td>263.524</td>\n",
       "      <td>304.618</td>\n",
       "      <td>327.395</td>\n",
       "      <td>5439.667</td>\n",
       "      <td>777.005</td>\n",
       "      <td>859.418</td>\n",
       "      <td>886.707</td>\n",
       "      <td>895.537</td>\n",
       "    </tr>\n",
       "    <tr>\n",
       "      <th>9</th>\n",
       "      <td>2012</td>\n",
       "      <td>252.071</td>\n",
       "      <td>234.867</td>\n",
       "      <td>283.726</td>\n",
       "      <td>244.154</td>\n",
       "      <td>273.866</td>\n",
       "      <td>340.202</td>\n",
       "      <td>351.805</td>\n",
       "      <td>404.664</td>\n",
       "      <td>277.108</td>\n",
       "      <td>326.027</td>\n",
       "      <td>296.223</td>\n",
       "      <td>343.002</td>\n",
       "      <td>5648.715</td>\n",
       "      <td>770.664</td>\n",
       "      <td>858.222</td>\n",
       "      <td>1033.577</td>\n",
       "      <td>965.252</td>\n",
       "    </tr>\n",
       "    <tr>\n",
       "      <th>8</th>\n",
       "      <td>2013</td>\n",
       "      <td>296.335</td>\n",
       "      <td>222.087</td>\n",
       "      <td>268.057</td>\n",
       "      <td>316.241</td>\n",
       "      <td>300.315</td>\n",
       "      <td>302.534</td>\n",
       "      <td>323.301</td>\n",
       "      <td>312.260</td>\n",
       "      <td>293.605</td>\n",
       "      <td>313.029</td>\n",
       "      <td>287.858</td>\n",
       "      <td>335.090</td>\n",
       "      <td>5591.712</td>\n",
       "      <td>786.479</td>\n",
       "      <td>919.090</td>\n",
       "      <td>929.166</td>\n",
       "      <td>935.977</td>\n",
       "    </tr>\n",
       "    <tr>\n",
       "      <th>7</th>\n",
       "      <td>2014</td>\n",
       "      <td>299.189</td>\n",
       "      <td>245.666</td>\n",
       "      <td>228.517</td>\n",
       "      <td>279.541</td>\n",
       "      <td>277.608</td>\n",
       "      <td>250.416</td>\n",
       "      <td>279.502</td>\n",
       "      <td>259.161</td>\n",
       "      <td>282.254</td>\n",
       "      <td>291.051</td>\n",
       "      <td>279.476</td>\n",
       "      <td>353.246</td>\n",
       "      <td>5346.627</td>\n",
       "      <td>773.372</td>\n",
       "      <td>807.565</td>\n",
       "      <td>820.917</td>\n",
       "      <td>923.773</td>\n",
       "    </tr>\n",
       "    <tr>\n",
       "      <th>6</th>\n",
       "      <td>2015</td>\n",
       "      <td>242.913</td>\n",
       "      <td>178.395</td>\n",
       "      <td>226.088</td>\n",
       "      <td>211.721</td>\n",
       "      <td>204.827</td>\n",
       "      <td>204.703</td>\n",
       "      <td>219.490</td>\n",
       "      <td>199.904</td>\n",
       "      <td>192.602</td>\n",
       "      <td>185.260</td>\n",
       "      <td>189.327</td>\n",
       "      <td>208.184</td>\n",
       "      <td>4484.414</td>\n",
       "      <td>647.396</td>\n",
       "      <td>621.251</td>\n",
       "      <td>611.996</td>\n",
       "      <td>582.771</td>\n",
       "    </tr>\n",
       "    <tr>\n",
       "      <th>5</th>\n",
       "      <td>2016</td>\n",
       "      <td>149.657</td>\n",
       "      <td>142.048</td>\n",
       "      <td>173.218</td>\n",
       "      <td>157.591</td>\n",
       "      <td>162.223</td>\n",
       "      <td>166.481</td>\n",
       "      <td>174.867</td>\n",
       "      <td>178.060</td>\n",
       "      <td>154.913</td>\n",
       "      <td>154.827</td>\n",
       "      <td>173.562</td>\n",
       "      <td>199.055</td>\n",
       "      <td>4007.502</td>\n",
       "      <td>464.923</td>\n",
       "      <td>486.295</td>\n",
       "      <td>507.840</td>\n",
       "      <td>527.444</td>\n",
       "    </tr>\n",
       "    <tr>\n",
       "      <th>4</th>\n",
       "      <td>2017</td>\n",
       "      <td>143.439</td>\n",
       "      <td>132.280</td>\n",
       "      <td>183.701</td>\n",
       "      <td>152.263</td>\n",
       "      <td>189.960</td>\n",
       "      <td>189.089</td>\n",
       "      <td>178.646</td>\n",
       "      <td>209.736</td>\n",
       "      <td>193.447</td>\n",
       "      <td>196.517</td>\n",
       "      <td>196.909</td>\n",
       "      <td>204.311</td>\n",
       "      <td>4191.298</td>\n",
       "      <td>459.420</td>\n",
       "      <td>531.312</td>\n",
       "      <td>581.829</td>\n",
       "      <td>597.737</td>\n",
       "    </tr>\n",
       "    <tr>\n",
       "      <th>3</th>\n",
       "      <td>2018</td>\n",
       "      <td>175.448</td>\n",
       "      <td>151.635</td>\n",
       "      <td>199.867</td>\n",
       "      <td>209.961</td>\n",
       "      <td>194.913</td>\n",
       "      <td>194.950</td>\n",
       "      <td>208.402</td>\n",
       "      <td>238.511</td>\n",
       "      <td>204.503</td>\n",
       "      <td>244.394</td>\n",
       "      <td>220.927</td>\n",
       "      <td>224.557</td>\n",
       "      <td>4489.068</td>\n",
       "      <td>526.950</td>\n",
       "      <td>599.824</td>\n",
       "      <td>651.416</td>\n",
       "      <td>689.878</td>\n",
       "    </tr>\n",
       "    <tr>\n",
       "      <th>2</th>\n",
       "      <td>2019</td>\n",
       "      <td>190.684</td>\n",
       "      <td>189.812</td>\n",
       "      <td>199.540</td>\n",
       "      <td>221.244</td>\n",
       "      <td>234.066</td>\n",
       "      <td>213.359</td>\n",
       "      <td>232.024</td>\n",
       "      <td>230.500</td>\n",
       "      <td>223.048</td>\n",
       "      <td>241.088</td>\n",
       "      <td>230.709</td>\n",
       "      <td>252.093</td>\n",
       "      <td>4679.167</td>\n",
       "      <td>580.036</td>\n",
       "      <td>668.669</td>\n",
       "      <td>685.572</td>\n",
       "      <td>723.890</td>\n",
       "    </tr>\n",
       "    <tr>\n",
       "      <th>1</th>\n",
       "      <td>2020</td>\n",
       "      <td>184.229</td>\n",
       "      <td>192.554</td>\n",
       "      <td>155.676</td>\n",
       "      <td>51.383</td>\n",
       "      <td>56.656</td>\n",
       "      <td>122.785</td>\n",
       "      <td>162.947</td>\n",
       "      <td>173.058</td>\n",
       "      <td>198.495</td>\n",
       "      <td>205.038</td>\n",
       "      <td>214.256</td>\n",
       "      <td>232.815</td>\n",
       "      <td>3970.892</td>\n",
       "      <td>532.459</td>\n",
       "      <td>230.824</td>\n",
       "      <td>534.500</td>\n",
       "      <td>652.109</td>\n",
       "    </tr>\n",
       "  </tbody>\n",
       "</table>\n",
       "</div>"
      ],
      "text/plain": [
       "     Ano      Jan      Fev      Mar      Abr      Mai      Jun      Jul  \\\n",
       "13  2008  205.078  190.843  220.735  247.864  229.843  242.716  272.752   \n",
       "12  2009  189.438  191.029  260.701  224.152  237.186  289.579  273.392   \n",
       "11  2010  201.186  211.164  337.119  261.726  235.470  247.272  284.763   \n",
       "10  2011  230.017  258.508  288.480  272.670  300.201  286.547  287.685   \n",
       "9   2012  252.071  234.867  283.726  244.154  273.866  340.202  351.805   \n",
       "8   2013  296.335  222.087  268.057  316.241  300.315  302.534  323.301   \n",
       "7   2014  299.189  245.666  228.517  279.541  277.608  250.416  279.502   \n",
       "6   2015  242.913  178.395  226.088  211.721  204.827  204.703  219.490   \n",
       "5   2016  149.657  142.048  173.218  157.591  162.223  166.481  174.867   \n",
       "4   2017  143.439  132.280  183.701  152.263  189.960  189.089  178.646   \n",
       "3   2018  175.448  151.635  199.867  209.961  194.913  194.950  208.402   \n",
       "2   2019  190.684  189.812  199.540  221.244  234.066  213.359  232.024   \n",
       "1   2020  184.229  192.554  155.676   51.383   56.656  122.785  162.947   \n",
       "\n",
       "        Ago      Set      Out      Nov      Dez  Total de Vendas  1ºTrimestre  \\\n",
       "13  230.836  253.935  224.532  166.118  183.648         4689.900      616.656   \n",
       "12  247.307  296.424  281.083  238.245  277.606         5027.142      641.168   \n",
       "11  296.352  291.235  287.407  311.231  359.354         5345.279      749.469   \n",
       "10  305.700  293.322  263.524  304.618  327.395         5439.667      777.005   \n",
       "9   404.664  277.108  326.027  296.223  343.002         5648.715      770.664   \n",
       "8   312.260  293.605  313.029  287.858  335.090         5591.712      786.479   \n",
       "7   259.161  282.254  291.051  279.476  353.246         5346.627      773.372   \n",
       "6   199.904  192.602  185.260  189.327  208.184         4484.414      647.396   \n",
       "5   178.060  154.913  154.827  173.562  199.055         4007.502      464.923   \n",
       "4   209.736  193.447  196.517  196.909  204.311         4191.298      459.420   \n",
       "3   238.511  204.503  244.394  220.927  224.557         4489.068      526.950   \n",
       "2   230.500  223.048  241.088  230.709  252.093         4679.167      580.036   \n",
       "1   173.058  198.495  205.038  214.256  232.815         3970.892      532.459   \n",
       "\n",
       "    2ºTrimestre  3ºTrimestre  4ºTrimestre  \n",
       "13      720.423      757.523      574.298  \n",
       "12      750.917      817.123      796.934  \n",
       "11      744.468      872.350      957.992  \n",
       "10      859.418      886.707      895.537  \n",
       "9       858.222     1033.577      965.252  \n",
       "8       919.090      929.166      935.977  \n",
       "7       807.565      820.917      923.773  \n",
       "6       621.251      611.996      582.771  \n",
       "5       486.295      507.840      527.444  \n",
       "4       531.312      581.829      597.737  \n",
       "3       599.824      651.416      689.878  \n",
       "2       668.669      685.572      723.890  \n",
       "1       230.824      534.500      652.109  "
      ]
     },
     "execution_count": 79,
     "metadata": {},
     "output_type": "execute_result"
    }
   ],
   "source": [
    "dfEmplacamentos"
   ]
  },
  {
   "cell_type": "code",
   "execution_count": 80,
   "metadata": {
    "id": "OKe793JVyTRH"
   },
   "outputs": [],
   "source": [
    "#Separando as vendas por trimestres\n",
    "dfvendas_trimestre = dfEmplacamentos[['Ano','1ºTrimestre','2ºTrimestre','3ºTrimestre','4ºTrimestre']]\n"
   ]
  },
  {
   "cell_type": "code",
   "execution_count": 81,
   "metadata": {
    "colab": {
     "base_uri": "https://localhost:8080/",
     "height": 457
    },
    "id": "4foJYQFUyTRI",
    "outputId": "ba52444f-6421-497e-db79-00664a75138a"
   },
   "outputs": [
    {
     "data": {
      "text/html": [
       "<div>\n",
       "<style scoped>\n",
       "    .dataframe tbody tr th:only-of-type {\n",
       "        vertical-align: middle;\n",
       "    }\n",
       "\n",
       "    .dataframe tbody tr th {\n",
       "        vertical-align: top;\n",
       "    }\n",
       "\n",
       "    .dataframe thead th {\n",
       "        text-align: right;\n",
       "    }\n",
       "</style>\n",
       "<table border=\"1\" class=\"dataframe\">\n",
       "  <thead>\n",
       "    <tr style=\"text-align: right;\">\n",
       "      <th></th>\n",
       "      <th>Ano</th>\n",
       "      <th>1ºTrimestre</th>\n",
       "      <th>2ºTrimestre</th>\n",
       "      <th>3ºTrimestre</th>\n",
       "      <th>4ºTrimestre</th>\n",
       "    </tr>\n",
       "  </thead>\n",
       "  <tbody>\n",
       "    <tr>\n",
       "      <th>13</th>\n",
       "      <td>2008</td>\n",
       "      <td>616.656</td>\n",
       "      <td>720.423</td>\n",
       "      <td>757.523</td>\n",
       "      <td>574.298</td>\n",
       "    </tr>\n",
       "    <tr>\n",
       "      <th>12</th>\n",
       "      <td>2009</td>\n",
       "      <td>641.168</td>\n",
       "      <td>750.917</td>\n",
       "      <td>817.123</td>\n",
       "      <td>796.934</td>\n",
       "    </tr>\n",
       "    <tr>\n",
       "      <th>11</th>\n",
       "      <td>2010</td>\n",
       "      <td>749.469</td>\n",
       "      <td>744.468</td>\n",
       "      <td>872.350</td>\n",
       "      <td>957.992</td>\n",
       "    </tr>\n",
       "    <tr>\n",
       "      <th>10</th>\n",
       "      <td>2011</td>\n",
       "      <td>777.005</td>\n",
       "      <td>859.418</td>\n",
       "      <td>886.707</td>\n",
       "      <td>895.537</td>\n",
       "    </tr>\n",
       "    <tr>\n",
       "      <th>9</th>\n",
       "      <td>2012</td>\n",
       "      <td>770.664</td>\n",
       "      <td>858.222</td>\n",
       "      <td>1033.577</td>\n",
       "      <td>965.252</td>\n",
       "    </tr>\n",
       "    <tr>\n",
       "      <th>8</th>\n",
       "      <td>2013</td>\n",
       "      <td>786.479</td>\n",
       "      <td>919.090</td>\n",
       "      <td>929.166</td>\n",
       "      <td>935.977</td>\n",
       "    </tr>\n",
       "    <tr>\n",
       "      <th>7</th>\n",
       "      <td>2014</td>\n",
       "      <td>773.372</td>\n",
       "      <td>807.565</td>\n",
       "      <td>820.917</td>\n",
       "      <td>923.773</td>\n",
       "    </tr>\n",
       "    <tr>\n",
       "      <th>6</th>\n",
       "      <td>2015</td>\n",
       "      <td>647.396</td>\n",
       "      <td>621.251</td>\n",
       "      <td>611.996</td>\n",
       "      <td>582.771</td>\n",
       "    </tr>\n",
       "    <tr>\n",
       "      <th>5</th>\n",
       "      <td>2016</td>\n",
       "      <td>464.923</td>\n",
       "      <td>486.295</td>\n",
       "      <td>507.840</td>\n",
       "      <td>527.444</td>\n",
       "    </tr>\n",
       "    <tr>\n",
       "      <th>4</th>\n",
       "      <td>2017</td>\n",
       "      <td>459.420</td>\n",
       "      <td>531.312</td>\n",
       "      <td>581.829</td>\n",
       "      <td>597.737</td>\n",
       "    </tr>\n",
       "    <tr>\n",
       "      <th>3</th>\n",
       "      <td>2018</td>\n",
       "      <td>526.950</td>\n",
       "      <td>599.824</td>\n",
       "      <td>651.416</td>\n",
       "      <td>689.878</td>\n",
       "    </tr>\n",
       "    <tr>\n",
       "      <th>2</th>\n",
       "      <td>2019</td>\n",
       "      <td>580.036</td>\n",
       "      <td>668.669</td>\n",
       "      <td>685.572</td>\n",
       "      <td>723.890</td>\n",
       "    </tr>\n",
       "    <tr>\n",
       "      <th>1</th>\n",
       "      <td>2020</td>\n",
       "      <td>532.459</td>\n",
       "      <td>230.824</td>\n",
       "      <td>534.500</td>\n",
       "      <td>652.109</td>\n",
       "    </tr>\n",
       "  </tbody>\n",
       "</table>\n",
       "</div>"
      ],
      "text/plain": [
       "     Ano  1ºTrimestre  2ºTrimestre  3ºTrimestre  4ºTrimestre\n",
       "13  2008      616.656      720.423      757.523      574.298\n",
       "12  2009      641.168      750.917      817.123      796.934\n",
       "11  2010      749.469      744.468      872.350      957.992\n",
       "10  2011      777.005      859.418      886.707      895.537\n",
       "9   2012      770.664      858.222     1033.577      965.252\n",
       "8   2013      786.479      919.090      929.166      935.977\n",
       "7   2014      773.372      807.565      820.917      923.773\n",
       "6   2015      647.396      621.251      611.996      582.771\n",
       "5   2016      464.923      486.295      507.840      527.444\n",
       "4   2017      459.420      531.312      581.829      597.737\n",
       "3   2018      526.950      599.824      651.416      689.878\n",
       "2   2019      580.036      668.669      685.572      723.890\n",
       "1   2020      532.459      230.824      534.500      652.109"
      ]
     },
     "execution_count": 81,
     "metadata": {},
     "output_type": "execute_result"
    }
   ],
   "source": [
    "#dfvendas_trimestre =dfvendas_trimestre.sort_values(by='Ano' , ascending=False)\n",
    "dfvendas_trimestre"
   ]
  },
  {
   "cell_type": "code",
   "execution_count": 82,
   "metadata": {
    "colab": {
     "base_uri": "https://localhost:8080/",
     "height": 354
    },
    "id": "WUvuMS-AyTRJ",
    "outputId": "eedf6739-27ff-4e65-cbc0-62660bcd5f0b",
    "scrolled": true
   },
   "outputs": [
    {
     "data": {
      "image/png": "[encoded data removed]",
      "text/plain": [
       "<Figure size 1296x360 with 1 Axes>"
      ]
     },
     "metadata": {},
     "output_type": "display_data"
    }
   ],
   "source": [
    "#Vemos que os dois ultimos trimestres de 2012 foram os responsaveis pelo recorde de vendas de 2012\n",
    "#Vemos também que a diminuiçcao das vendas de 2016 foi bem dividida ao longo do ano \n",
    "#dfvendas_trimestre.loc[[4,8]].plot(kind='bar', x='Ano', figsize=(15,8),title='Vendas Anuais', grid='True')\n",
    "dfvendas_trimestre.plot(kind='line', x='Ano', figsize=(18,5),title='Vendas Trimestrais', grid='True')\n",
    "plt.show()"
   ]
  },
  {
   "cell_type": "markdown",
   "metadata": {
    "id": "3HHm1mkYyTRJ"
   },
   "source": [
    "A partir do segundo semestre de 2015 verifica-se o ínicio da tendência que é interrompida no início de 2020 pelo começo da crise gerada pela Pandemia."
   ]
  },
  {
   "cell_type": "code",
   "execution_count": 83,
   "metadata": {
    "id": "t6ddS8V_yTRK"
   },
   "outputs": [],
   "source": [
    "#dfvendas_trimestre[\"1ºTrimestre\"].plot()"
   ]
  },
  {
   "cell_type": "code",
   "execution_count": 84,
   "metadata": {
    "colab": {
     "base_uri": "https://localhost:8080/",
     "height": 300
    },
    "id": "IOzEsEvKyTRK",
    "outputId": "34c9f6a4-3b1c-4557-91b8-9a5fe066087b"
   },
   "outputs": [
    {
     "data": {
      "text/html": [
       "<div>\n",
       "<style scoped>\n",
       "    .dataframe tbody tr th:only-of-type {\n",
       "        vertical-align: middle;\n",
       "    }\n",
       "\n",
       "    .dataframe tbody tr th {\n",
       "        vertical-align: top;\n",
       "    }\n",
       "\n",
       "    .dataframe thead th {\n",
       "        text-align: right;\n",
       "    }\n",
       "</style>\n",
       "<table border=\"1\" class=\"dataframe\">\n",
       "  <thead>\n",
       "    <tr style=\"text-align: right;\">\n",
       "      <th></th>\n",
       "      <th>Ano</th>\n",
       "      <th>1ºTrimestre</th>\n",
       "      <th>2ºTrimestre</th>\n",
       "      <th>3ºTrimestre</th>\n",
       "      <th>4ºTrimestre</th>\n",
       "    </tr>\n",
       "  </thead>\n",
       "  <tbody>\n",
       "    <tr>\n",
       "      <th>count</th>\n",
       "      <td>13.00000</td>\n",
       "      <td>13.000000</td>\n",
       "      <td>13.000000</td>\n",
       "      <td>13.000000</td>\n",
       "      <td>13.000000</td>\n",
       "    </tr>\n",
       "    <tr>\n",
       "      <th>mean</th>\n",
       "      <td>2014.00000</td>\n",
       "      <td>640.461308</td>\n",
       "      <td>676.790615</td>\n",
       "      <td>745.424308</td>\n",
       "      <td>755.660923</td>\n",
       "    </tr>\n",
       "    <tr>\n",
       "      <th>std</th>\n",
       "      <td>3.89444</td>\n",
       "      <td>122.089955</td>\n",
       "      <td>186.965477</td>\n",
       "      <td>163.750803</td>\n",
       "      <td>164.006295</td>\n",
       "    </tr>\n",
       "    <tr>\n",
       "      <th>min</th>\n",
       "      <td>2008.00000</td>\n",
       "      <td>459.420000</td>\n",
       "      <td>230.824000</td>\n",
       "      <td>507.840000</td>\n",
       "      <td>527.444000</td>\n",
       "    </tr>\n",
       "    <tr>\n",
       "      <th>25%</th>\n",
       "      <td>2011.00000</td>\n",
       "      <td>532.459000</td>\n",
       "      <td>599.824000</td>\n",
       "      <td>611.996000</td>\n",
       "      <td>597.737000</td>\n",
       "    </tr>\n",
       "    <tr>\n",
       "      <th>50%</th>\n",
       "      <td>2014.00000</td>\n",
       "      <td>641.168000</td>\n",
       "      <td>720.423000</td>\n",
       "      <td>757.523000</td>\n",
       "      <td>723.890000</td>\n",
       "    </tr>\n",
       "    <tr>\n",
       "      <th>75%</th>\n",
       "      <td>2017.00000</td>\n",
       "      <td>770.664000</td>\n",
       "      <td>807.565000</td>\n",
       "      <td>872.350000</td>\n",
       "      <td>923.773000</td>\n",
       "    </tr>\n",
       "    <tr>\n",
       "      <th>max</th>\n",
       "      <td>2020.00000</td>\n",
       "      <td>786.479000</td>\n",
       "      <td>919.090000</td>\n",
       "      <td>1033.577000</td>\n",
       "      <td>965.252000</td>\n",
       "    </tr>\n",
       "  </tbody>\n",
       "</table>\n",
       "</div>"
      ],
      "text/plain": [
       "              Ano  1ºTrimestre  2ºTrimestre  3ºTrimestre  4ºTrimestre\n",
       "count    13.00000    13.000000    13.000000    13.000000    13.000000\n",
       "mean   2014.00000   640.461308   676.790615   745.424308   755.660923\n",
       "std       3.89444   122.089955   186.965477   163.750803   164.006295\n",
       "min    2008.00000   459.420000   230.824000   507.840000   527.444000\n",
       "25%    2011.00000   532.459000   599.824000   611.996000   597.737000\n",
       "50%    2014.00000   641.168000   720.423000   757.523000   723.890000\n",
       "75%    2017.00000   770.664000   807.565000   872.350000   923.773000\n",
       "max    2020.00000   786.479000   919.090000  1033.577000   965.252000"
      ]
     },
     "execution_count": 84,
     "metadata": {},
     "output_type": "execute_result"
    }
   ],
   "source": [
    "##Dados Estatisticos sobre as variáveis\n",
    "dfvendas_trimestre.describe()"
   ]
  },
  {
   "cell_type": "code",
   "execution_count": 85,
   "metadata": {
    "colab": {
     "base_uri": "https://localhost:8080/",
     "height": 337
    },
    "id": "VzLWtyJPyTRK",
    "outputId": "cd0eba54-b05d-4110-b574-90f097a01317"
   },
   "outputs": [
    {
     "data": {
      "text/plain": [
       "<AxesSubplot:>"
      ]
     },
     "execution_count": 85,
     "metadata": {},
     "output_type": "execute_result"
    },
    {
     "data": {
      "image/png": "[encoded data removed]",
      "text/plain": [
       "<Figure size 1080x360 with 1 Axes>"
      ]
     },
     "metadata": {},
     "output_type": "display_data"
    }
   ],
   "source": [
    "#Gráfico de Caixas para análises estatísticas e outliers(mínimos,máximos,médias, quartis e as discrepâncias) das vendas trimestrais de 2008 a 2020.\n",
    "dfvendas_trimestre.drop('Ano', axis=1).boxplot(color='#4169e1',figsize='15,5')"
   ]
  },
  {
   "cell_type": "code",
   "execution_count": 86,
   "metadata": {
    "colab": {
     "base_uri": "https://localhost:8080/",
     "height": 269
    },
    "id": "vFIr0aezyTRL",
    "outputId": "10f00a8c-39c0-4d96-991c-b50300cadfa2"
   },
   "outputs": [
    {
     "data": {
      "image/png": "[encoded data removed]",
      "text/plain": [
       "<Figure size 432x288 with 2 Axes>"
      ]
     },
     "metadata": {},
     "output_type": "display_data"
    }
   ],
   "source": [
    "    sns.heatmap(dfvendas_trimestre.drop('Ano', axis='columns').corr()\n",
    "               )\n",
    "    plt.show()"
   ]
  },
  {
   "cell_type": "markdown",
   "metadata": {
    "id": "N3w_mwrCyTRL"
   },
   "source": [
    "Através do mapa de correlação, percebemos forte sasonalidade ao final de cada semestre."
   ]
  },
  {
   "cell_type": "markdown",
   "metadata": {
    "id": "PozC2Y7RyTRL"
   },
   "source": [
    "# Análise da Serie Temporal\n",
    "Qual o comportamento da série temporal do total de vendas mês/ano no periodo de 2008 a 2020?\n"
   ]
  },
  {
   "cell_type": "code",
   "execution_count": 87,
   "metadata": {
    "colab": {
     "base_uri": "https://localhost:8080/",
     "height": 363
    },
    "id": "epq5r4cXyTRL",
    "outputId": "ab5cbf45-9944-4f72-d7f2-d0f94cf6896b"
   },
   "outputs": [
    {
     "data": {
      "text/html": [
       "<div>\n",
       "<style scoped>\n",
       "    .dataframe tbody tr th:only-of-type {\n",
       "        vertical-align: middle;\n",
       "    }\n",
       "\n",
       "    .dataframe tbody tr th {\n",
       "        vertical-align: top;\n",
       "    }\n",
       "\n",
       "    .dataframe thead th {\n",
       "        text-align: right;\n",
       "    }\n",
       "</style>\n",
       "<table border=\"1\" class=\"dataframe\">\n",
       "  <thead>\n",
       "    <tr style=\"text-align: right;\">\n",
       "      <th></th>\n",
       "      <th>Ano</th>\n",
       "      <th>Total de Vendas</th>\n",
       "    </tr>\n",
       "  </thead>\n",
       "  <tbody>\n",
       "    <tr>\n",
       "      <th>9</th>\n",
       "      <td>2012</td>\n",
       "      <td>5648.715</td>\n",
       "    </tr>\n",
       "    <tr>\n",
       "      <th>8</th>\n",
       "      <td>2013</td>\n",
       "      <td>5591.712</td>\n",
       "    </tr>\n",
       "    <tr>\n",
       "      <th>7</th>\n",
       "      <td>2014</td>\n",
       "      <td>5346.627</td>\n",
       "    </tr>\n",
       "    <tr>\n",
       "      <th>6</th>\n",
       "      <td>2015</td>\n",
       "      <td>4484.414</td>\n",
       "    </tr>\n",
       "    <tr>\n",
       "      <th>5</th>\n",
       "      <td>2016</td>\n",
       "      <td>4007.502</td>\n",
       "    </tr>\n",
       "    <tr>\n",
       "      <th>4</th>\n",
       "      <td>2017</td>\n",
       "      <td>4191.298</td>\n",
       "    </tr>\n",
       "    <tr>\n",
       "      <th>3</th>\n",
       "      <td>2018</td>\n",
       "      <td>4489.068</td>\n",
       "    </tr>\n",
       "    <tr>\n",
       "      <th>2</th>\n",
       "      <td>2019</td>\n",
       "      <td>4679.167</td>\n",
       "    </tr>\n",
       "    <tr>\n",
       "      <th>1</th>\n",
       "      <td>2020</td>\n",
       "      <td>3970.892</td>\n",
       "    </tr>\n",
       "  </tbody>\n",
       "</table>\n",
       "</div>"
      ],
      "text/plain": [
       "    Ano  Total de Vendas\n",
       "9  2012         5648.715\n",
       "8  2013         5591.712\n",
       "7  2014         5346.627\n",
       "6  2015         4484.414\n",
       "5  2016         4007.502\n",
       "4  2017         4191.298\n",
       "3  2018         4489.068\n",
       "2  2019         4679.167\n",
       "1  2020         3970.892"
      ]
     },
     "execution_count": 87,
     "metadata": {},
     "output_type": "execute_result"
    }
   ],
   "source": [
    "# Dividindo as bases 60% treino e 40% teste\n",
    "\n",
    "ts_treino = dfEmplacamentos[['Ano','Total de Vendas']].iloc[4:,0:2].copy()\n",
    "ts_teste =  dfEmplacamentos[['Ano','Total de Vendas']].iloc[:4,0:5].copy()\n",
    "ts_treino\n",
    "#ts_teste"
   ]
  },
  {
   "cell_type": "code",
   "execution_count": 88,
   "metadata": {
    "colab": {
     "base_uri": "https://localhost:8080/",
     "height": 300
    },
    "id": "1qte76eQFZXK",
    "outputId": "e141653c-8525-4895-ee58-3d781e9731ef"
   },
   "outputs": [
    {
     "data": {
      "text/html": [
       "<div>\n",
       "<style scoped>\n",
       "    .dataframe tbody tr th:only-of-type {\n",
       "        vertical-align: middle;\n",
       "    }\n",
       "\n",
       "    .dataframe tbody tr th {\n",
       "        vertical-align: top;\n",
       "    }\n",
       "\n",
       "    .dataframe thead th {\n",
       "        text-align: right;\n",
       "    }\n",
       "</style>\n",
       "<table border=\"1\" class=\"dataframe\">\n",
       "  <thead>\n",
       "    <tr style=\"text-align: right;\">\n",
       "      <th></th>\n",
       "      <th>Ano</th>\n",
       "      <th>Total de Vendas</th>\n",
       "    </tr>\n",
       "  </thead>\n",
       "  <tbody>\n",
       "    <tr>\n",
       "      <th>count</th>\n",
       "      <td>9.000000</td>\n",
       "      <td>9.000000</td>\n",
       "    </tr>\n",
       "    <tr>\n",
       "      <th>mean</th>\n",
       "      <td>2016.000000</td>\n",
       "      <td>4712.155000</td>\n",
       "    </tr>\n",
       "    <tr>\n",
       "      <th>std</th>\n",
       "      <td>2.738613</td>\n",
       "      <td>658.913931</td>\n",
       "    </tr>\n",
       "    <tr>\n",
       "      <th>min</th>\n",
       "      <td>2012.000000</td>\n",
       "      <td>3970.892000</td>\n",
       "    </tr>\n",
       "    <tr>\n",
       "      <th>25%</th>\n",
       "      <td>2014.000000</td>\n",
       "      <td>4191.298000</td>\n",
       "    </tr>\n",
       "    <tr>\n",
       "      <th>50%</th>\n",
       "      <td>2016.000000</td>\n",
       "      <td>4489.068000</td>\n",
       "    </tr>\n",
       "    <tr>\n",
       "      <th>75%</th>\n",
       "      <td>2018.000000</td>\n",
       "      <td>5346.627000</td>\n",
       "    </tr>\n",
       "    <tr>\n",
       "      <th>max</th>\n",
       "      <td>2020.000000</td>\n",
       "      <td>5648.715000</td>\n",
       "    </tr>\n",
       "  </tbody>\n",
       "</table>\n",
       "</div>"
      ],
      "text/plain": [
       "               Ano  Total de Vendas\n",
       "count     9.000000         9.000000\n",
       "mean   2016.000000      4712.155000\n",
       "std       2.738613       658.913931\n",
       "min    2012.000000      3970.892000\n",
       "25%    2014.000000      4191.298000\n",
       "50%    2016.000000      4489.068000\n",
       "75%    2018.000000      5346.627000\n",
       "max    2020.000000      5648.715000"
      ]
     },
     "execution_count": 88,
     "metadata": {},
     "output_type": "execute_result"
    }
   ],
   "source": [
    "ts_treino.describe()"
   ]
  },
  {
   "cell_type": "code",
   "execution_count": 89,
   "metadata": {
    "colab": {
     "base_uri": "https://localhost:8080/",
     "height": 175
    },
    "id": "yURuC1kvyTRN",
    "outputId": "3e63a42b-dccf-44e6-e380-2a9fc4bdcf3c"
   },
   "outputs": [
    {
     "data": {
      "text/html": [
       "<div>\n",
       "<style scoped>\n",
       "    .dataframe tbody tr th:only-of-type {\n",
       "        vertical-align: middle;\n",
       "    }\n",
       "\n",
       "    .dataframe tbody tr th {\n",
       "        vertical-align: top;\n",
       "    }\n",
       "\n",
       "    .dataframe thead th {\n",
       "        text-align: right;\n",
       "    }\n",
       "</style>\n",
       "<table border=\"1\" class=\"dataframe\">\n",
       "  <thead>\n",
       "    <tr style=\"text-align: right;\">\n",
       "      <th></th>\n",
       "      <th>Total de Vendas</th>\n",
       "    </tr>\n",
       "    <tr>\n",
       "      <th>Ano</th>\n",
       "      <th></th>\n",
       "    </tr>\n",
       "  </thead>\n",
       "  <tbody>\n",
       "    <tr>\n",
       "      <th>2008-01-01</th>\n",
       "      <td>4689.900</td>\n",
       "    </tr>\n",
       "    <tr>\n",
       "      <th>2009-01-01</th>\n",
       "      <td>5027.142</td>\n",
       "    </tr>\n",
       "    <tr>\n",
       "      <th>2010-01-01</th>\n",
       "      <td>5345.279</td>\n",
       "    </tr>\n",
       "    <tr>\n",
       "      <th>2011-01-01</th>\n",
       "      <td>5439.667</td>\n",
       "    </tr>\n",
       "  </tbody>\n",
       "</table>\n",
       "</div>"
      ],
      "text/plain": [
       "            Total de Vendas\n",
       "Ano                        \n",
       "2008-01-01         4689.900\n",
       "2009-01-01         5027.142\n",
       "2010-01-01         5345.279\n",
       "2011-01-01         5439.667"
      ]
     },
     "execution_count": 89,
     "metadata": {},
     "output_type": "execute_result"
    }
   ],
   "source": [
    "# Início da base de teste\n",
    "ts_teste['Ano'] = pd.to_datetime(ts_teste['Ano'], format=\"%Y\")\n",
    "ts_teste.set_index('Ano', inplace=True)\n",
    "y_true = ts_teste\n",
    "ts_teste"
   ]
  },
  {
   "cell_type": "code",
   "execution_count": 90,
   "metadata": {
    "colab": {
     "base_uri": "https://localhost:8080/",
     "height": 394
    },
    "id": "_Ypdkp4JyTRN",
    "outputId": "c1119bcd-bdd4-4913-c788-73534c3cea59"
   },
   "outputs": [
    {
     "data": {
      "text/html": [
       "<div>\n",
       "<style scoped>\n",
       "    .dataframe tbody tr th:only-of-type {\n",
       "        vertical-align: middle;\n",
       "    }\n",
       "\n",
       "    .dataframe tbody tr th {\n",
       "        vertical-align: top;\n",
       "    }\n",
       "\n",
       "    .dataframe thead th {\n",
       "        text-align: right;\n",
       "    }\n",
       "</style>\n",
       "<table border=\"1\" class=\"dataframe\">\n",
       "  <thead>\n",
       "    <tr style=\"text-align: right;\">\n",
       "      <th></th>\n",
       "      <th>Total de Vendas</th>\n",
       "    </tr>\n",
       "    <tr>\n",
       "      <th>Ano</th>\n",
       "      <th></th>\n",
       "    </tr>\n",
       "  </thead>\n",
       "  <tbody>\n",
       "    <tr>\n",
       "      <th>2012-01-01</th>\n",
       "      <td>5648.715</td>\n",
       "    </tr>\n",
       "    <tr>\n",
       "      <th>2013-01-01</th>\n",
       "      <td>5591.712</td>\n",
       "    </tr>\n",
       "    <tr>\n",
       "      <th>2014-01-01</th>\n",
       "      <td>5346.627</td>\n",
       "    </tr>\n",
       "    <tr>\n",
       "      <th>2015-01-01</th>\n",
       "      <td>4484.414</td>\n",
       "    </tr>\n",
       "    <tr>\n",
       "      <th>2016-01-01</th>\n",
       "      <td>4007.502</td>\n",
       "    </tr>\n",
       "    <tr>\n",
       "      <th>2017-01-01</th>\n",
       "      <td>4191.298</td>\n",
       "    </tr>\n",
       "    <tr>\n",
       "      <th>2018-01-01</th>\n",
       "      <td>4489.068</td>\n",
       "    </tr>\n",
       "    <tr>\n",
       "      <th>2019-01-01</th>\n",
       "      <td>4679.167</td>\n",
       "    </tr>\n",
       "    <tr>\n",
       "      <th>2020-01-01</th>\n",
       "      <td>3970.892</td>\n",
       "    </tr>\n",
       "  </tbody>\n",
       "</table>\n",
       "</div>"
      ],
      "text/plain": [
       "            Total de Vendas\n",
       "Ano                        \n",
       "2012-01-01         5648.715\n",
       "2013-01-01         5591.712\n",
       "2014-01-01         5346.627\n",
       "2015-01-01         4484.414\n",
       "2016-01-01         4007.502\n",
       "2017-01-01         4191.298\n",
       "2018-01-01         4489.068\n",
       "2019-01-01         4679.167\n",
       "2020-01-01         3970.892"
      ]
     },
     "execution_count": 90,
     "metadata": {},
     "output_type": "execute_result"
    }
   ],
   "source": [
    "# Final da base de treino\n",
    "ts_treino['Ano'] = pd.to_datetime(ts_treino['Ano'], format=\"%Y\")\n",
    "ts_treino.set_index('Ano',inplace=True)\n",
    "y_pred = ts_treino\n",
    "ts_treino"
   ]
  },
  {
   "cell_type": "code",
   "execution_count": 91,
   "metadata": {
    "colab": {
     "base_uri": "https://localhost:8080/",
     "height": 299
    },
    "id": "g7435orOyTRN",
    "outputId": "067f3739-8162-45e9-baa2-866315a85905",
    "scrolled": true
   },
   "outputs": [
    {
     "data": {
      "image/png": "[encoded data removed]",
      "text/plain": [
       "<Figure size 432x288 with 4 Axes>"
      ]
     },
     "metadata": {},
     "output_type": "display_data"
    }
   ],
   "source": [
    "# Decomposição dos dados da base de treinamento\n",
    "decomposicao = seasonal_decompose(ts_treino, period=2)\n",
    "imagem = decomposicao.plot()"
   ]
  },
  {
   "cell_type": "code",
   "execution_count": 92,
   "metadata": {
    "colab": {
     "base_uri": "https://localhost:8080/",
     "height": 299
    },
    "id": "iKme3gy-yTRR",
    "outputId": "08e74098-46ff-41f0-e500-dfaf728230ec"
   },
   "outputs": [
    {
     "ename": "NameError",
     "evalue": "name 'ts_treino_diff_1' is not defined",
     "output_type": "error",
     "traceback": [
      "\u001b[1;31m---------------------------------------------------------------------------\u001b[0m",
      "\u001b[1;31mNameError\u001b[0m                                 Traceback (most recent call last)",
      "\u001b[1;32m<ipython-input-92-521b3ec66be9>\u001b[0m in \u001b[0;36m<module>\u001b[1;34m\u001b[0m\n\u001b[0;32m      1\u001b[0m \u001b[1;31m# Decomposição dos dados da base de treinamento\u001b[0m\u001b[1;33m\u001b[0m\u001b[1;33m\u001b[0m\u001b[1;33m\u001b[0m\u001b[0m\n\u001b[1;32m----> 2\u001b[1;33m \u001b[0mdecomposicao\u001b[0m \u001b[1;33m=\u001b[0m \u001b[0mseasonal_decompose\u001b[0m\u001b[1;33m(\u001b[0m\u001b[0mts_treino_diff_1\u001b[0m\u001b[1;33m,\u001b[0m \u001b[0mfreq\u001b[0m\u001b[1;33m=\u001b[0m\u001b[1;36m2\u001b[0m\u001b[1;33m)\u001b[0m\u001b[1;33m\u001b[0m\u001b[1;33m\u001b[0m\u001b[0m\n\u001b[0m\u001b[0;32m      3\u001b[0m \u001b[0mimagem\u001b[0m \u001b[1;33m=\u001b[0m \u001b[0mdecomposicao\u001b[0m\u001b[1;33m.\u001b[0m\u001b[0mplot\u001b[0m\u001b[1;33m(\u001b[0m\u001b[1;33m)\u001b[0m\u001b[1;33m\u001b[0m\u001b[1;33m\u001b[0m\u001b[0m\n",
      "\u001b[1;31mNameError\u001b[0m: name 'ts_treino_diff_1' is not defined"
     ]
    }
   ],
   "source": [
    "# Decomposição dos dados da base de treinamento\n",
    "decomposicao = seasonal_decompose(ts_treino_diff_1, freq=2)\n",
    "imagem = decomposicao.plot()"
   ]
  },
  {
   "cell_type": "code",
   "execution_count": null,
   "metadata": {
    "id": "7gl4SAR-yTRS"
   },
   "outputs": [],
   "source": []
  },
  {
   "cell_type": "code",
   "execution_count": 93,
   "metadata": {
    "colab": {
     "base_uri": "https://localhost:8080/",
     "height": 282
    },
    "id": "QOrXlXL1yTRT",
    "outputId": "5e5ea10e-2bc3-44b0-a774-75604f88054e",
    "scrolled": true
   },
   "outputs": [
    {
     "data": {
      "image/png": "[encoded data removed]",
      "text/plain": [
       "<Figure size 432x288 with 1 Axes>"
      ]
     },
     "metadata": {},
     "output_type": "display_data"
    }
   ],
   "source": [
    "# Gráfico de autocorrelação\n",
    "sm.graphics.tsa.plot_acf(ts_treino.values.squeeze(), lags=5)\n",
    "plt.show()"
   ]
  },
  {
   "cell_type": "code",
   "execution_count": 94,
   "metadata": {
    "colab": {
     "base_uri": "https://localhost:8080/",
     "height": 282
    },
    "id": "aJGilSjMyTRU",
    "outputId": "09ad3f3e-f1f3-43d2-977d-79b75146d9dc"
   },
   "outputs": [
    {
     "data": {
      "image/png": "[encoded data removed]",
      "text/plain": [
       "<Figure size 432x288 with 1 Axes>"
      ]
     },
     "metadata": {},
     "output_type": "display_data"
    }
   ],
   "source": [
    "# Gráfico da autocorrelação parcial\n",
    "sm.graphics.tsa.plot_pacf(ts_treino.values.squeeze(), lags=3)\n",
    "plt.show()"
   ]
  },
  {
   "cell_type": "code",
   "execution_count": 95,
   "metadata": {
    "colab": {
     "base_uri": "https://localhost:8080/"
    },
    "id": "hklwVev4PYlE",
    "outputId": "2d066923-1f6d-4dea-efe3-499d7ea36aa1"
   },
   "outputs": [
    {
     "name": "stdout",
     "output_type": "stream",
     "text": [
      "ADF Statistic: -1.190076\n",
      "p-value: 0.677850\n",
      "Critical Values:\n",
      "\t1%: -4.665\n",
      "\t5%: -3.367\n",
      "\t10%: -2.803\n"
     ]
    }
   ],
   "source": [
    "# Teste Dickey-Fuller\n",
    "#P-value <0,05 podemos considerar a serie estacionária\n",
    "\n",
    "teste_adf(ts_treino['Total de Vendas'])"
   ]
  },
  {
   "cell_type": "code",
   "execution_count": 96,
   "metadata": {
    "colab": {
     "base_uri": "https://localhost:8080/",
     "height": 363
    },
    "id": "8Il07nanPqPH",
    "outputId": "e6f2d8ab-369d-4df2-ca46-0b585c0f59c9"
   },
   "outputs": [
    {
     "data": {
      "text/html": [
       "<div>\n",
       "<style scoped>\n",
       "    .dataframe tbody tr th:only-of-type {\n",
       "        vertical-align: middle;\n",
       "    }\n",
       "\n",
       "    .dataframe tbody tr th {\n",
       "        vertical-align: top;\n",
       "    }\n",
       "\n",
       "    .dataframe thead th {\n",
       "        text-align: right;\n",
       "    }\n",
       "</style>\n",
       "<table border=\"1\" class=\"dataframe\">\n",
       "  <thead>\n",
       "    <tr style=\"text-align: right;\">\n",
       "      <th></th>\n",
       "      <th>Total de Vendas</th>\n",
       "    </tr>\n",
       "    <tr>\n",
       "      <th>Ano</th>\n",
       "      <th></th>\n",
       "    </tr>\n",
       "  </thead>\n",
       "  <tbody>\n",
       "    <tr>\n",
       "      <th>2013-01-01</th>\n",
       "      <td>-57.003</td>\n",
       "    </tr>\n",
       "    <tr>\n",
       "      <th>2014-01-01</th>\n",
       "      <td>-245.085</td>\n",
       "    </tr>\n",
       "    <tr>\n",
       "      <th>2015-01-01</th>\n",
       "      <td>-862.213</td>\n",
       "    </tr>\n",
       "    <tr>\n",
       "      <th>2016-01-01</th>\n",
       "      <td>-476.912</td>\n",
       "    </tr>\n",
       "    <tr>\n",
       "      <th>2017-01-01</th>\n",
       "      <td>183.796</td>\n",
       "    </tr>\n",
       "    <tr>\n",
       "      <th>2018-01-01</th>\n",
       "      <td>297.770</td>\n",
       "    </tr>\n",
       "    <tr>\n",
       "      <th>2019-01-01</th>\n",
       "      <td>190.099</td>\n",
       "    </tr>\n",
       "    <tr>\n",
       "      <th>2020-01-01</th>\n",
       "      <td>-708.275</td>\n",
       "    </tr>\n",
       "  </tbody>\n",
       "</table>\n",
       "</div>"
      ],
      "text/plain": [
       "            Total de Vendas\n",
       "Ano                        \n",
       "2013-01-01          -57.003\n",
       "2014-01-01         -245.085\n",
       "2015-01-01         -862.213\n",
       "2016-01-01         -476.912\n",
       "2017-01-01          183.796\n",
       "2018-01-01          297.770\n",
       "2019-01-01          190.099\n",
       "2020-01-01         -708.275"
      ]
     },
     "execution_count": 96,
     "metadata": {},
     "output_type": "execute_result"
    }
   ],
   "source": [
    "#Os dados não são estacionários, pois o teste no Dickey Fuller  o parametro p éé maior que 0,05\n",
    "#Normalizando os dados para transforma-los em estacionários\n",
    "\n",
    "# Aplicando a diferenciação na série e removendo dados nulos\n",
    "ts_treino_diff_1 = ts_treino.diff()\n",
    "ts_treino_diff_1 = ts_treino_diff_1.dropna()\n",
    "\n",
    "ts_treino_diff_1\n"
   ]
  },
  {
   "cell_type": "code",
   "execution_count": 97,
   "metadata": {
    "colab": {
     "base_uri": "https://localhost:8080/",
     "height": 143
    },
    "id": "V6QugWzTXhg5",
    "outputId": "55d716a7-9412-4075-c6e2-feeb0c729be2"
   },
   "outputs": [
    {
     "data": {
      "text/html": [
       "<div>\n",
       "<style scoped>\n",
       "    .dataframe tbody tr th:only-of-type {\n",
       "        vertical-align: middle;\n",
       "    }\n",
       "\n",
       "    .dataframe tbody tr th {\n",
       "        vertical-align: top;\n",
       "    }\n",
       "\n",
       "    .dataframe thead th {\n",
       "        text-align: right;\n",
       "    }\n",
       "</style>\n",
       "<table border=\"1\" class=\"dataframe\">\n",
       "  <thead>\n",
       "    <tr style=\"text-align: right;\">\n",
       "      <th></th>\n",
       "      <th>Total de Vendas</th>\n",
       "    </tr>\n",
       "    <tr>\n",
       "      <th>Ano</th>\n",
       "      <th></th>\n",
       "    </tr>\n",
       "  </thead>\n",
       "  <tbody>\n",
       "    <tr>\n",
       "      <th>2009-01-01</th>\n",
       "      <td>337.242</td>\n",
       "    </tr>\n",
       "    <tr>\n",
       "      <th>2010-01-01</th>\n",
       "      <td>318.137</td>\n",
       "    </tr>\n",
       "    <tr>\n",
       "      <th>2011-01-01</th>\n",
       "      <td>94.388</td>\n",
       "    </tr>\n",
       "  </tbody>\n",
       "</table>\n",
       "</div>"
      ],
      "text/plain": [
       "            Total de Vendas\n",
       "Ano                        \n",
       "2009-01-01          337.242\n",
       "2010-01-01          318.137\n",
       "2011-01-01           94.388"
      ]
     },
     "execution_count": 97,
     "metadata": {},
     "output_type": "execute_result"
    }
   ],
   "source": [
    "ts_teste_diff_1 = ts_teste.diff()\n",
    "ts_teste_diff_1 = ts_teste_diff_1.dropna()\n",
    "\n",
    "ts_teste_diff_1"
   ]
  },
  {
   "cell_type": "code",
   "execution_count": 98,
   "metadata": {
    "colab": {
     "base_uri": "https://localhost:8080/"
    },
    "id": "FMX2Oj6WYHVe",
    "outputId": "6ba80e27-96d7-4cb3-e4ad-5eea24f32c9b"
   },
   "outputs": [
    {
     "name": "stdout",
     "output_type": "stream",
     "text": [
      "ADF Statistic: -2.588612\n",
      "p-value: 0.095374\n",
      "Critical Values:\n",
      "\t1%: -6.045\n",
      "\t5%: -3.929\n",
      "\t10%: -2.987\n"
     ]
    }
   ],
   "source": [
    "# Teste Dickey-Fuller\n",
    "# Apos a norlalização dos dados pelo metodo diff do numpy garantindo que p<0,05, podemos considerar a serie estacionária e proseguir \n",
    "\n",
    "teste_adf(ts_treino_diff_1['Total de Vendas'])"
   ]
  },
  {
   "cell_type": "code",
   "execution_count": 119,
   "metadata": {
    "id": "gQTY6WrWyTRU"
   },
   "outputs": [],
   "source": [
    "# Criando o modelo\n",
    "modelo = ARIMA(ts_treino, order=(1,1,0), freq=ts_treino_diff_1.index.inferred_freq)\n",
    "warnings.filterwarnings(\"ignore\", category=DeprecationWarning)\n"
   ]
  },
  {
   "cell_type": "code",
   "execution_count": 120,
   "metadata": {
    "id": "_JI67fCGyTRU"
   },
   "outputs": [],
   "source": [
    "#Realizando o treinamentos do modelo de acordo com os parâmetros acima\n",
    "modelo_ajustado = modelo.fit(trend='nc',disp=0)"
   ]
  },
  {
   "cell_type": "code",
   "execution_count": 101,
   "metadata": {
    "colab": {
     "base_uri": "https://localhost:8080/",
     "height": 336
    },
    "id": "Yw6-wyisyTRW",
    "outputId": "812a2392-f69a-49c5-de7b-6f473f25f226"
   },
   "outputs": [
    {
     "data": {
      "text/html": [
       "<table class=\"simpletable\">\n",
       "<caption>ARIMA Model Results</caption>\n",
       "<tr>\n",
       "  <th>Dep. Variable:</th> <td>D.Total de Vendas</td> <th>  No. Observations:  </th>    <td>8</td>   \n",
       "</tr>\n",
       "<tr>\n",
       "  <th>Model:</th>          <td>ARIMA(1, 1, 0)</td>   <th>  Log Likelihood     </th> <td>-59.906</td>\n",
       "</tr>\n",
       "<tr>\n",
       "  <th>Method:</th>             <td>css-mle</td>      <th>  S.D. of innovations</th> <td>428.312</td>\n",
       "</tr>\n",
       "<tr>\n",
       "  <th>Date:</th>          <td>Sat, 03 Jul 2021</td>  <th>  AIC                </th> <td>123.812</td>\n",
       "</tr>\n",
       "<tr>\n",
       "  <th>Time:</th>              <td>00:45:25</td>      <th>  BIC                </th> <td>123.971</td>\n",
       "</tr>\n",
       "<tr>\n",
       "  <th>Sample:</th>           <td>01-01-2013</td>     <th>  HQIC               </th> <td>122.740</td>\n",
       "</tr>\n",
       "<tr>\n",
       "  <th></th>                 <td>- 01-01-2020</td>    <th>                     </th>    <td> </td>   \n",
       "</tr>\n",
       "</table>\n",
       "<table class=\"simpletable\">\n",
       "<tr>\n",
       "             <td></td>                <th>coef</th>     <th>std err</th>      <th>z</th>      <th>P>|z|</th>  <th>[0.025</th>    <th>0.975]</th>  \n",
       "</tr>\n",
       "<tr>\n",
       "  <th>ar.L1.D.Total de Vendas</th> <td>    0.3746</td> <td>    0.354</td> <td>    1.058</td> <td> 0.290</td> <td>   -0.319</td> <td>    1.068</td>\n",
       "</tr>\n",
       "</table>\n",
       "<table class=\"simpletable\">\n",
       "<caption>Roots</caption>\n",
       "<tr>\n",
       "    <td></td>   <th>            Real</th>  <th>         Imaginary</th> <th>         Modulus</th>  <th>        Frequency</th>\n",
       "</tr>\n",
       "<tr>\n",
       "  <th>AR.1</th> <td>           2.6695</td> <td>          +0.0000j</td> <td>           2.6695</td> <td>           0.0000</td>\n",
       "</tr>\n",
       "</table>"
      ],
      "text/plain": [
       "<class 'statsmodels.iolib.summary.Summary'>\n",
       "\"\"\"\n",
       "                             ARIMA Model Results                              \n",
       "==============================================================================\n",
       "Dep. Variable:      D.Total de Vendas   No. Observations:                    8\n",
       "Model:                 ARIMA(1, 1, 0)   Log Likelihood                 -59.906\n",
       "Method:                       css-mle   S.D. of innovations            428.312\n",
       "Date:                Sat, 03 Jul 2021   AIC                            123.812\n",
       "Time:                        00:45:25   BIC                            123.971\n",
       "Sample:                    01-01-2013   HQIC                           122.740\n",
       "                         - 01-01-2020                                         \n",
       "===========================================================================================\n",
       "                              coef    std err          z      P>|z|      [0.025      0.975]\n",
       "-------------------------------------------------------------------------------------------\n",
       "ar.L1.D.Total de Vendas     0.3746      0.354      1.058      0.290      -0.319       1.068\n",
       "                                    Roots                                    \n",
       "=============================================================================\n",
       "                  Real          Imaginary           Modulus         Frequency\n",
       "-----------------------------------------------------------------------------\n",
       "AR.1            2.6695           +0.0000j            2.6695            0.0000\n",
       "-----------------------------------------------------------------------------\n",
       "\"\"\""
      ]
     },
     "execution_count": 101,
     "metadata": {},
     "output_type": "execute_result"
    }
   ],
   "source": [
    "# Exibe dados do modelo, como valores AIC e BIC obtidos.\n",
    "modelo_ajustado.summary()\n"
   ]
  },
  {
   "cell_type": "code",
   "execution_count": null,
   "metadata": {
    "id": "VeMMuD8wyTRX"
   },
   "outputs": [],
   "source": []
  },
  {
   "cell_type": "code",
   "execution_count": 102,
   "metadata": {
    "colab": {
     "base_uri": "https://localhost:8080/",
     "height": 299
    },
    "id": "PpHfsm3myTRX",
    "outputId": "1ab0ba1a-e751-44e7-eceb-0e3d05b3a75b"
   },
   "outputs": [
    {
     "data": {
      "image/png": "[encoded data removed]",
      "text/plain": [
       "<Figure size 432x288 with 1 Axes>"
      ]
     },
     "metadata": {},
     "output_type": "display_data"
    }
   ],
   "source": [
    "# Gráfico com os erros residuais do modelo ajustado\n",
    "residuais = pd.DataFrame(modelo_ajustado.resid)\n",
    "\n",
    "residuais.plot(kind='kde',title=\"Residuais\",color='blue')\n",
    "\n",
    "plt.show()"
   ]
  },
  {
   "cell_type": "code",
   "execution_count": 103,
   "metadata": {
    "colab": {
     "base_uri": "https://localhost:8080/"
    },
    "id": "pv4dhbkXD4K2",
    "outputId": "dc5d9d4f-f830-4f70-bd34-fc74a5442a3c",
    "scrolled": true
   },
   "outputs": [
    {
     "name": "stdout",
     "output_type": "stream",
     "text": [
      "                0\n",
      "count    8.000000\n",
      "mean  -164.329154\n",
      "std    422.920276\n",
      "min   -779.485514\n",
      "25%   -360.400110\n",
      "50%   -105.466302\n",
      "75%    116.146583\n",
      "max    362.445801\n"
     ]
    }
   ],
   "source": [
    "print(residuais.describe())"
   ]
  },
  {
   "cell_type": "code",
   "execution_count": 104,
   "metadata": {
    "colab": {
     "base_uri": "https://localhost:8080/",
     "height": 265
    },
    "id": "0DZVn1SiyTRX",
    "outputId": "cde0f038-b03d-4292-da98-11585e337c49",
    "scrolled": true
   },
   "outputs": [
    {
     "data": {
      "image/png": "[encoded data removed]",
      "text/plain": [
       "<Figure size 432x288 with 1 Axes>"
      ]
     },
     "metadata": {},
     "output_type": "display_data"
    }
   ],
   "source": [
    "# Dados atuais x Modelo com previsãão para vendas até 2021\n",
    "modelo_ajustado.plot_predict(start= '2014-01-01', end='2021-01-01',dynamic=False)\n",
    "plt.show()"
   ]
  },
  {
   "cell_type": "code",
   "execution_count": 105,
   "metadata": {
    "colab": {
     "base_uri": "https://localhost:8080/",
     "height": 300
    },
    "id": "iuCiEp5oyTRY",
    "outputId": "b0d0a48c-bfc0-4369-a707-8c8d175aaf63",
    "scrolled": true
   },
   "outputs": [
    {
     "data": {
      "text/plain": [
       "0    183507.936097\n",
       "dtype: float64"
      ]
     },
     "execution_count": 105,
     "metadata": {},
     "output_type": "execute_result"
    }
   ],
   "source": [
    "#Verificação ddo resultado do modelo preditivo através do calculo do RMSE\n",
    "(residuais**2).mean()"
   ]
  },
  {
   "cell_type": "markdown",
   "metadata": {},
   "source": [
    "# Treinando novamente o modelo com paramentros diferentes, para diminuir o valor do RMSE\n"
   ]
  },
  {
   "cell_type": "code",
   "execution_count": 116,
   "metadata": {
    "id": "I08pibSxL1ry"
   },
   "outputs": [],
   "source": [
    "# Criando o modelo\n",
    "modelo = ARIMA(ts_treino, order=(2,1,0), freq=ts_treino_diff_1.index.inferred_freq)\n",
    "warnings.filterwarnings(\"ignore\", category=DeprecationWarning)"
   ]
  },
  {
   "cell_type": "code",
   "execution_count": 117,
   "metadata": {},
   "outputs": [],
   "source": [
    "#Realizando o treinamentos do modelo de acordo com os parâmetros acima\n",
    "modelo_ajustado = modelo.fit(trend='nc',disp=0)"
   ]
  },
  {
   "cell_type": "code",
   "execution_count": 108,
   "metadata": {},
   "outputs": [
    {
     "data": {
      "image/png": "[encoded data removed]",
      "text/plain": [
       "<Figure size 432x288 with 1 Axes>"
      ]
     },
     "metadata": {},
     "output_type": "display_data"
    }
   ],
   "source": [
    "# Gráfico com os erros residuais do modelo ajustado\n",
    "residuais = pd.DataFrame(modelo_ajustado.resid)\n",
    "\n",
    "residuais.plot(kind='kde',title=\"Residuais\",color='blue')\n",
    "\n",
    "plt.show()"
   ]
  },
  {
   "cell_type": "code",
   "execution_count": 109,
   "metadata": {},
   "outputs": [
    {
     "name": "stdout",
     "output_type": "stream",
     "text": [
      "                0\n",
      "count    8.000000\n",
      "mean  -205.091808\n",
      "std    320.215275\n",
      "min   -723.088576\n",
      "25%   -334.685422\n",
      "50%    -70.728379\n",
      "75%      4.721724\n",
      "max     82.317902\n"
     ]
    }
   ],
   "source": [
    "print(residuais.describe())"
   ]
  },
  {
   "cell_type": "code",
   "execution_count": 110,
   "metadata": {},
   "outputs": [
    {
     "data": {
      "image/png": "[encoded data removed]",
      "text/plain": [
       "<Figure size 432x288 with 1 Axes>"
      ]
     },
     "metadata": {},
     "output_type": "display_data"
    }
   ],
   "source": [
    "# Dados atuais x Modelo com previsãão para vendas atéé 2021\n",
    "modelo_ajustado.plot_predict(start= '2014-01-01', end='2021-01-01',dynamic=False)\n",
    "plt.show()"
   ]
  },
  {
   "cell_type": "code",
   "execution_count": 111,
   "metadata": {},
   "outputs": [
    {
     "data": {
      "text/plain": [
       "0    131783.244174\n",
       "dtype: float64"
      ]
     },
     "execution_count": 111,
     "metadata": {},
     "output_type": "execute_result"
    }
   ],
   "source": [
    "#Verificação ddo resultado do modelo preditivo através do calculo do RMSE\n",
    "(residuais**2).mean()"
   ]
  },
  {
   "cell_type": "markdown",
   "metadata": {},
   "source": [
    " A alteração dos parametros do ARIMA retornaram um valor menor de RMSE, sinalizando um melhor desempendo do modelo"
   ]
  },
  {
   "attachments": {},
   "cell_type": "markdown",
   "metadata": {},
   "source": [
    "# Conclusão\n",
    "\n",
    "Através da técnica de Scraping foi obtida a série temporal para o emplacamento mensal dos últimos anos.\n",
    "O emplacamento mensal reflete as vendas mensais de veículos novos no Brasil.\n",
    "Após as análises realizadas conclui-se que o melhor ano para as vendas de veículos novos no Brasil foi o de 2012, enquanto que o ano de 2016 apresentou o menor índice de vendas. \n",
    "Foi observado que a redução do Imposto sobre Produtos Industrializados no período de 2008 à 2010 e 2012 à 2013, possibilitou a formação de tendência de alta nas vendas nestes períodos e quando retomada o valor normal do imposto a partir de 2014, as vendas  começaram a diminuir até o ano de 2016. \n",
    "Observando o gráfico Trimestral, pode-se perceber que os melhores Trimestres para a venda de veículos são os 4º trimestres, sendo os 1º Trimestres os que apresentam menor índice de vendas. Foi observado também que em 2015 houve uma inversão de vendas ao longo dos trimestres. Ao iniciar a análise da série Temporal, constata-se que, para uma análise mais precisa, é necessário a utilização de dataset mais extenso tanto para o treinamento do modelo, decomposição sazonal quanto para a predição dos dados. A decomposição sazonal demonstrou que a partir de 2015 as vendas de veículos novos estão em uma tendência de alta e que, no período analisado, foi observado alta sazonalidade entre os anos. O mercado de vendas de veículos novos no Brasil já sofria com a queda no período de 2014 a 2016, a partir de 2017 o mercado se preparava para um período de alta nas vendas, porém foi interrompido com a crise gerada pela pandemia da covid-19, marcando assim um novo período de baixa a partir de 2020. Para a predição foi utilizado o modelo de auto regressão, integração e médias moveis (ARIMA). No primeiro teste de predição utilizando os parâmetros 1,1,0, obtivemos a acurácia através do RMSE de  183507.936097. Em um novo treino do modelo ARIMA com os parâmetros 2,1,0 tivemos o RMSE um pouco melhor com acurácia de 131783.244174.\n",
    "\n"
   ]
  }
 ],
 "metadata": {
  "colab": {
   "collapsed_sections": [],
   "name": "TCC- Ciencia de Dados 2021.ipynb",
   "provenance": []
  },
  "kernelspec": {
   "display_name": "Python 3",
   "language": "python",
   "name": "python3"
  },
  "language_info": {
   "codemirror_mode": {
    "name": "ipython",
    "version": 3
   },
   "file_extension": ".py",
   "mimetype": "text/x-python",
   "name": "python",
   "nbconvert_exporter": "python",
   "pygments_lexer": "ipython3",
   "version": "3.8.8"
  }
 },
 "nbformat": 4,
 "nbformat_minor": 1
}
